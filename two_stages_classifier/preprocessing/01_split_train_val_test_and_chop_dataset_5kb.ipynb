{
 "cells": [
  {
   "cell_type": "code",
   "execution_count": 1,
   "id": "e41203f3",
   "metadata": {},
   "outputs": [],
   "source": [
    "import os\n",
    "import pandas as pd\n",
    "from Bio import SeqIO\n",
    "import sys\n",
    "import random\n",
    "import glob\n",
    "import shutil\n",
    "import utils_preprocessing as utils"
   ]
  },
  {
   "cell_type": "code",
   "execution_count": 2,
   "id": "92f1cf55",
   "metadata": {},
   "outputs": [],
   "source": [
    "fungi = pd.read_csv(\"/fs/ess/PAS0439/MING/cilates_fungi_classifier/dataset_fungi.csv\")"
   ]
  },
  {
   "cell_type": "code",
   "execution_count": 3,
   "id": "ac09ee82",
   "metadata": {},
   "outputs": [],
   "source": [
    " protozoa = pd.read_csv(\"/fs/ess/PAS0439/MING/cilates_fungi_classifier/dataset_protozoa.csv\")"
   ]
  },
  {
   "cell_type": "code",
   "execution_count": 4,
   "id": "784d97a3",
   "metadata": {},
   "outputs": [],
   "source": [
    " proka = pd.read_csv(\"/fs/ess/PAS0439/MING/cilates_fungi_classifier/dataset_pro.csv\")"
   ]
  },
  {
   "cell_type": "code",
   "execution_count": 5,
   "id": "92bf99aa",
   "metadata": {},
   "outputs": [],
   "source": [
    "fungi_genus = []\n",
    "selected_fungi = []\n",
    "for index, row in fungi.iterrows():\n",
    "    Genus = row[\"Genus\"]\n",
    "    name = row[\"name\"]\n",
    "    if Genus in fungi_genus:\n",
    "        continue\n",
    "    else:\n",
    "        fungi_genus.append(Genus)\n",
    "        selected_fungi.append(name)"
   ]
  },
  {
   "cell_type": "code",
   "execution_count": 6,
   "id": "85505e7a",
   "metadata": {},
   "outputs": [],
   "source": [
    "fungi_repre = fungi[fungi.name.isin(selected_fungi)].reset_index(drop = True)"
   ]
  },
  {
   "cell_type": "code",
   "execution_count": 7,
   "id": "0f724b3e",
   "metadata": {},
   "outputs": [],
   "source": [
    " protozoa[\"Genus\"] = [f[0] for f in protozoa.taxa.str.split(\" \")]"
   ]
  },
  {
   "cell_type": "code",
   "execution_count": 8,
   "id": "7997d610",
   "metadata": {},
   "outputs": [],
   "source": [
    "protozoa_genus = []\n",
    "selected_protozoa = []\n",
    "for index, row in protozoa.iterrows():\n",
    "    Genus = row[\"Genus\"]\n",
    "    name = row[\"id\"]\n",
    "    if Genus in protozoa_genus:\n",
    "        continue\n",
    "    else:\n",
    "        protozoa_genus.append(Genus)\n",
    "        selected_protozoa.append(name)"
   ]
  },
  {
   "cell_type": "code",
   "execution_count": 9,
   "id": "6fcf45f1",
   "metadata": {},
   "outputs": [],
   "source": [
    "protozoa_repre = protozoa[protozoa.id.isin(selected_protozoa)].reset_index(drop = True)"
   ]
  },
  {
   "cell_type": "code",
   "execution_count": 10,
   "id": "81c98f9f",
   "metadata": {},
   "outputs": [],
   "source": [
    "proka_genus = []\n",
    "selected_proka = []\n",
    "for index, row in proka.iterrows():\n",
    "    Genus = row[\"genus\"]\n",
    "    name = row[\"id\"]\n",
    "    if Genus in proka_genus:\n",
    "        continue\n",
    "    else:\n",
    "        proka_genus.append(Genus)\n",
    "        selected_proka.append(name)\n",
    "        \n",
    "selected_proka_files = [f + \"_genomic.fna\" for f in selected_proka]"
   ]
  },
  {
   "cell_type": "code",
   "execution_count": 11,
   "id": "1b23f152",
   "metadata": {},
   "outputs": [],
   "source": [
    "proka_repre = proka[proka.id.isin(selected_proka)].reset_index(drop = True)"
   ]
  },
  {
   "cell_type": "code",
   "execution_count": 12,
   "id": "dc92e3b3",
   "metadata": {},
   "outputs": [],
   "source": [
    "# os.chdir(\"/fs/scratch/PAS0439/Ming/databases/gtdb_r214/gtdb_genomes_reps_r214/database/\")\n",
    "# for f in glob.glob(\"*\"):\n",
    "#     if f in selected_proka_files:\n",
    "#         genome = f.split(\"/\")[-1]\n",
    "#         random_choice = random.choices([0, 1, 2], weights=[0.7, 0.15, 0.15], k=1)[0] \n",
    "#         source_file = f\"{genome}\"\n",
    "#         if random_choice == 0:\n",
    "#             destination_dir = f\"/fs/scratch/PAS0439/Ming/databases/gut_eukaryotes_classifier/train/proka/{genome}\"\n",
    "#             shutil.copy(source_file, destination_dir)\n",
    "#         elif random_choice == 1:\n",
    "#             destination_dir = f\"/fs/scratch/PAS0439/Ming/databases/gut_eukaryotes_classifier/val/proka/{genome}\"\n",
    "#             shutil.copy(source_file, destination_dir)\n",
    "#         else:\n",
    "#             destination_dir = f\"/fs/scratch/PAS0439/Ming/databases/gut_eukaryotes_classifier/test/proka/{genome}\"\n",
    "#             shutil.copy(source_file, destination_dir)\n",
    "#     else:\n",
    "#         continue"
   ]
  },
  {
   "cell_type": "code",
   "execution_count": 13,
   "id": "490066ed",
   "metadata": {},
   "outputs": [],
   "source": [
    "# os.chdir(\"/fs/ess/PAS0439/MING/databases/fungi1000/fungi_with_seqid/\")\n",
    "# for f in glob.glob(\"*\"):\n",
    "#     if f in list(fungi_repre.files):\n",
    "#         genome = f.split(\"/\")[-1]\n",
    "#         random_choice = random.choices([0, 1, 2], weights=[0.7, 0.15, 0.15], k=1)[0] \n",
    "#         source_file = f\"{genome}\"\n",
    "#         if random_choice == 0:\n",
    "#             destination_dir = f\"/fs/scratch/PAS0439/Ming/databases/gut_eukaryotes_classifier/train/fungi/{genome}\"\n",
    "#             shutil.copy(source_file, destination_dir)\n",
    "#         elif random_choice == 1:\n",
    "#             destination_dir = f\"/fs/scratch/PAS0439/Ming/databases/gut_eukaryotes_classifier/val/fungi/{genome}\"\n",
    "#             shutil.copy(source_file, destination_dir)\n",
    "#         else:\n",
    "#             destination_dir = f\"/fs/scratch/PAS0439/Ming/databases/gut_eukaryotes_classifier/test/fungi/{genome}\"\n",
    "#             shutil.copy(source_file, destination_dir)\n",
    "#     else:\n",
    "#         continue"
   ]
  },
  {
   "cell_type": "code",
   "execution_count": 14,
   "id": "c426c3ff",
   "metadata": {},
   "outputs": [],
   "source": [
    "# os.chdir(\"/fs/ess/PAS0439/MING/databases/ncbi_genome_download/protozoa/genomes\")\n",
    "# for f in glob.glob(\"*\"):\n",
    "#     _ = f.split('_')\n",
    "#     name = _[0] + \"_\" + _[1]\n",
    "#     if name in list(protozoa_repre.id):\n",
    "#         genome = f.split(\"/\")[-1]\n",
    "#         random_choice = random.choices([0, 1, 2], weights=[0.7, 0.15, 0.15], k=1)[0] \n",
    "#         source_file = f\"{genome}\"\n",
    "#         if random_choice == 0:\n",
    "#             destination_dir = f\"/fs/scratch/PAS0439/Ming/databases/gut_eukaryotes_classifier/train/protozoa/{genome}\"\n",
    "#             shutil.copy(source_file, destination_dir)\n",
    "#         elif random_choice == 1:\n",
    "#             destination_dir = f\"/fs/scratch/PAS0439/Ming/databases/gut_eukaryotes_classifier/val/protozoa/{genome}\"\n",
    "#             shutil.copy(source_file, destination_dir)\n",
    "#         else:\n",
    "#             destination_dir = f\"/fs/scratch/PAS0439/Ming/databases/gut_eukaryotes_classifier/test/protozoa/{genome}\"\n",
    "#             shutil.copy(source_file, destination_dir)\n",
    "#     else:\n",
    "#         continue"
   ]
  },
  {
   "cell_type": "code",
   "execution_count": 15,
   "id": "215a47db",
   "metadata": {},
   "outputs": [],
   "source": [
    "# utils.chop_genomes_parallel(\"/fs/scratch/PAS0439/Ming/databases/gut_eukaryotes_classifier/ciliates_sags/\", output_dir = \"/fs/scratch/PAS0439/Ming/databases/gut_eukaryotes_classifier/ciliates_sags_5kb/\", fragment_size = 5000, sliding_window = 2000, subsample =1, cores=None)\n"
   ]
  },
  {
   "cell_type": "code",
   "execution_count": 16,
   "id": "36a3f733",
   "metadata": {},
   "outputs": [],
   "source": [
    "# utils.chop_genomes_parallel(\"/fs/scratch/PAS0439/Ming/databases/gut_eukaryotes_classifier/train/proka\", output_dir = \"/fs/scratch/PAS0439/Ming/databases/gut_eukaryotes_classifier/train/proka_5kb\", fragment_size = 5000, sliding_window = 5000, subsample = 0.2, cores=None)\n",
    "# utils.chop_genomes_parallel(\"/fs/scratch/PAS0439/Ming/databases/gut_eukaryotes_classifier/val/proka\", output_dir = \"/fs/scratch/PAS0439/Ming/databases/gut_eukaryotes_classifier/val/proka_5kb\", fragment_size = 5000, sliding_window = 5000, subsample = 0.2, cores=None)\n",
    "# utils.chop_genomes_parallel(\"/fs/scratch/PAS0439/Ming/databases/gut_eukaryotes_classifier/test/proka\", output_dir = \"/fs/scratch/PAS0439/Ming/databases/gut_eukaryotes_classifier/test/proka_5kb\", fragment_size = 5000, sliding_window = 5000, subsample = 0.2, cores=None)"
   ]
  },
  {
   "cell_type": "code",
   "execution_count": 17,
   "id": "43b21f54",
   "metadata": {},
   "outputs": [],
   "source": [
    "# utils.chop_genomes_parallel(\"/fs/scratch/PAS0439/Ming/databases/gut_eukaryotes_classifier/train/fungi\", output_dir = \"/fs/scratch/PAS0439/Ming/databases/gut_eukaryotes_classifier/train/fungi_5kb\", fragment_size = 5000, sliding_window = 5000, subsample = 0.2, cores=None)\n",
    "# utils.chop_genomes_parallel(\"/fs/scratch/PAS0439/Ming/databases/gut_eukaryotes_classifier/val/fungi\", output_dir = \"/fs/scratch/PAS0439/Ming/databases/gut_eukaryotes_classifier/val/fungi_5kb\", fragment_size = 5000, sliding_window = 5000, subsample = 0.2, cores=None)\n",
    "# utils.chop_genomes_parallel(\"/fs/scratch/PAS0439/Ming/databases/gut_eukaryotes_classifier/test/fungi/\", output_dir = \"/fs/scratch/PAS0439/Ming/databases/gut_eukaryotes_classifier/test/fungi_5kb\", fragment_size = 5000, sliding_window = 5000, subsample = 0.2, cores=None)"
   ]
  },
  {
   "cell_type": "code",
   "execution_count": 18,
   "id": "aa0fe6cb",
   "metadata": {},
   "outputs": [],
   "source": [
    "# utils.chop_genomes_parallel(\"/fs/scratch/PAS0439/Ming/databases/gut_eukaryotes_classifier/train/protozoa\", output_dir = \"/fs/scratch/PAS0439/Ming/databases/gut_eukaryotes_classifier/train/protozoa_5kb\", fragment_size = 5000, sliding_window = 2000, subsample = 1, cores=None)\n",
    "# utils.chop_genomes_parallel(\"/fs/scratch/PAS0439/Ming/databases/gut_eukaryotes_classifier/val/protozoa\", output_dir = \"/fs/scratch/PAS0439/Ming/databases/gut_eukaryotes_classifier/val/protozoa_5kb\", fragment_size = 5000, sliding_window = 2000, subsample = 1, cores=None)\n",
    "# utils.chop_genomes_parallel(\"/fs/scratch/PAS0439/Ming/databases/gut_eukaryotes_classifier/test/protozoa\", output_dir = \"/fs/scratch/PAS0439/Ming/databases/gut_eukaryotes_classifier/test/protozoa_5kb\", fragment_size = 5000, sliding_window = 2000, subsample = 1, cores=None)"
   ]
  },
  {
   "cell_type": "code",
   "execution_count": 19,
   "id": "f1510734",
   "metadata": {},
   "outputs": [],
   "source": [
    "os.chdir(\"/fs/scratch/PAS0439/Ming/databases/gut_eukaryotes_classifier/train/\")\n",
    "proka_train = glob.glob(\"proka/*\")\n",
    "fungi_train = glob.glob(\"fungi/*\")\n",
    "protozoa_train = glob.glob(\"protozoa/*\")"
   ]
  },
  {
   "cell_type": "code",
   "execution_count": 20,
   "id": "e63b337f",
   "metadata": {},
   "outputs": [],
   "source": [
    "os.chdir(\"/fs/scratch/PAS0439/Ming/databases/gut_eukaryotes_classifier/val/\")\n",
    "proka_val = glob.glob(\"proka/*\")\n",
    "fungi_val = glob.glob(\"fungi/*\")\n",
    "protozoa_val = glob.glob(\"protozoa/*\")"
   ]
  },
  {
   "cell_type": "code",
   "execution_count": 21,
   "id": "6503dc54",
   "metadata": {},
   "outputs": [],
   "source": [
    "os.chdir(\"/fs/scratch/PAS0439/Ming/databases/gut_eukaryotes_classifier/test/\")\n",
    "proka_test = glob.glob(\"proka/*\")\n",
    "fungi_test = glob.glob(\"fungi/*\")\n",
    "protozoa_test = glob.glob(\"protozoa/*\")"
   ]
  },
  {
   "cell_type": "code",
   "execution_count": 22,
   "id": "d6be0d24",
   "metadata": {},
   "outputs": [],
   "source": [
    "protozoa_train = [f.split(\"_\")[0] + \"_\" + f.split(\"_\")[1] for f in protozoa_train]\n",
    "protozoa_val = [f.split(\"_\")[0] + \"_\" + f.split(\"_\")[1] for f in protozoa_val]\n",
    "protozoa_test = [f.split(\"_\")[0] + \"_\" + f.split(\"_\")[1] for f in protozoa_test]"
   ]
  },
  {
   "cell_type": "code",
   "execution_count": 23,
   "id": "2056f836",
   "metadata": {},
   "outputs": [],
   "source": [
    "for index, row in proka_repre.iterrows():\n",
    "    ID = row[\"id\"]\n",
    "    if 'proka/' + f\"{ID}\" + '_genomic.fna' in proka_train:\n",
    "        proka_repre.loc[index, \"dataset\"] = \"train\"\n",
    "    elif 'proka/' + f\"{ID}\" + '_genomic.fna' in proka_val:\n",
    "        proka_repre.loc[index, \"dataset\"] = \"Validation\"\n",
    "    else:\n",
    "        proka_repre.loc[index, \"dataset\"] = \"Test\"\n"
   ]
  },
  {
   "cell_type": "code",
   "execution_count": 24,
   "id": "cc4f3c97",
   "metadata": {},
   "outputs": [],
   "source": [
    "for index, row in fungi_repre.iterrows():\n",
    "    ID = row[\"files\"]\n",
    "    if 'fungi/' + f\"{ID}\" in fungi_train:\n",
    "        fungi_repre.loc[index, \"dataset\"] = \"train\"\n",
    "    elif 'fungi/' + f\"{ID}\"  in fungi_val:\n",
    "        fungi_repre.loc[index, \"dataset\"] = \"Validation\"\n",
    "    else:\n",
    "        fungi_repre.loc[index, \"dataset\"] = \"Test\""
   ]
  },
  {
   "cell_type": "code",
   "execution_count": 25,
   "id": "a07556a9",
   "metadata": {},
   "outputs": [],
   "source": [
    "for index, row in protozoa_repre.iterrows():\n",
    "    ID = row[\"id\"]\n",
    "    if 'protozoa/' + f\"{ID}\" in protozoa_train:\n",
    "        protozoa_repre.loc[index, \"dataset\"] = \"train\"\n",
    "    elif 'protozoa/' + f\"{ID}\"  in protozoa_val:\n",
    "        protozoa_repre.loc[index, \"dataset\"] = \"Validation\"\n",
    "    else:\n",
    "        protozoa_repre.loc[index, \"dataset\"] = \"Test\""
   ]
  },
  {
   "cell_type": "code",
   "execution_count": 26,
   "id": "572617cb",
   "metadata": {},
   "outputs": [],
   "source": [
    "protozoa_repre.drop(\"Type\", axis = 1, inplace = True)\n",
    "fungi_repre.drop(\"Type\", axis = 1, inplace = True)\n"
   ]
  },
  {
   "cell_type": "code",
   "execution_count": 27,
   "id": "7c7b73c9",
   "metadata": {},
   "outputs": [],
   "source": [
    "protozoa_repre.to_csv(\"/fs/ess/PAS0439/MING/cilates_fungi_classifier/dataset_protozoa_repre.csv\", index =None)\n",
    "proka_repre.to_csv(\"/fs/ess/PAS0439/MING/cilates_fungi_classifier/dataset_proka_repre.csv\", index =None)\n",
    "fungi_repre.to_csv(\"/fs/ess/PAS0439/MING/cilates_fungi_classifier/dataset_fungi_repre.csv\", index =None)"
   ]
  },
  {
   "cell_type": "code",
   "execution_count": null,
   "id": "f79060b1",
   "metadata": {},
   "outputs": [],
   "source": []
  },
  {
   "cell_type": "code",
   "execution_count": null,
   "id": "e780ca62",
   "metadata": {},
   "outputs": [],
   "source": []
  },
  {
   "cell_type": "code",
   "execution_count": 32,
   "id": "bf404230",
   "metadata": {},
   "outputs": [
    {
     "data": {
      "text/html": [
       "<div>\n",
       "<style scoped>\n",
       "    .dataframe tbody tr th:only-of-type {\n",
       "        vertical-align: middle;\n",
       "    }\n",
       "\n",
       "    .dataframe tbody tr th {\n",
       "        vertical-align: top;\n",
       "    }\n",
       "\n",
       "    .dataframe thead th {\n",
       "        text-align: right;\n",
       "    }\n",
       "</style>\n",
       "<table border=\"1\" class=\"dataframe\">\n",
       "  <thead>\n",
       "    <tr style=\"text-align: right;\">\n",
       "      <th></th>\n",
       "      <th>id</th>\n",
       "      <th>taxa</th>\n",
       "      <th>Genus</th>\n",
       "      <th>dataset</th>\n",
       "    </tr>\n",
       "  </thead>\n",
       "  <tbody>\n",
       "    <tr>\n",
       "      <th>8</th>\n",
       "      <td>GCF_000151545.1</td>\n",
       "      <td>Saprolegnia parasitica</td>\n",
       "      <td>Saprolegnia</td>\n",
       "      <td>Validation</td>\n",
       "    </tr>\n",
       "    <tr>\n",
       "      <th>13</th>\n",
       "      <td>GCF_000740895.1</td>\n",
       "      <td>Theileria orientalis strain Shintoku</td>\n",
       "      <td>Theileria</td>\n",
       "      <td>Validation</td>\n",
       "    </tr>\n",
       "    <tr>\n",
       "      <th>21</th>\n",
       "      <td>GCF_002095265.1</td>\n",
       "      <td>Babesia sp. Xinjiang</td>\n",
       "      <td>Babesia</td>\n",
       "      <td>Validation</td>\n",
       "    </tr>\n",
       "    <tr>\n",
       "      <th>38</th>\n",
       "      <td>GCF_000240725.1</td>\n",
       "      <td>Nannochloropsis gaditana</td>\n",
       "      <td>Nannochloropsis</td>\n",
       "      <td>Validation</td>\n",
       "    </tr>\n",
       "    <tr>\n",
       "      <th>39</th>\n",
       "      <td>GCF_001293395.1</td>\n",
       "      <td>Leptomonas pyrrhocoris</td>\n",
       "      <td>Leptomonas</td>\n",
       "      <td>Validation</td>\n",
       "    </tr>\n",
       "  </tbody>\n",
       "</table>\n",
       "</div>"
      ],
      "text/plain": [
       "                 id                                  taxa            Genus  \\\n",
       "8   GCF_000151545.1                Saprolegnia parasitica      Saprolegnia   \n",
       "13  GCF_000740895.1  Theileria orientalis strain Shintoku        Theileria   \n",
       "21  GCF_002095265.1                  Babesia sp. Xinjiang          Babesia   \n",
       "38  GCF_000240725.1              Nannochloropsis gaditana  Nannochloropsis   \n",
       "39  GCF_001293395.1                Leptomonas pyrrhocoris       Leptomonas   \n",
       "\n",
       "       dataset  \n",
       "8   Validation  \n",
       "13  Validation  \n",
       "21  Validation  \n",
       "38  Validation  \n",
       "39  Validation  "
      ]
     },
     "execution_count": 32,
     "metadata": {},
     "output_type": "execute_result"
    }
   ],
   "source": [
    "protozoa_repre.query(\"dataset == 'Validation'\")"
   ]
  },
  {
   "cell_type": "code",
   "execution_count": null,
   "id": "ce511221",
   "metadata": {},
   "outputs": [],
   "source": []
  },
  {
   "cell_type": "code",
   "execution_count": null,
   "id": "2a7114e0",
   "metadata": {},
   "outputs": [],
   "source": []
  }
 ],
 "metadata": {
  "kernelspec": {
   "display_name": "MYENV [/fs/ess/PAS0439/MING/conda/MYENV]",
   "language": "python",
   "name": "conda_myenv"
  },
  "language_info": {
   "codemirror_mode": {
    "name": "ipython",
    "version": 3
   },
   "file_extension": ".py",
   "mimetype": "text/x-python",
   "name": "python",
   "nbconvert_exporter": "python",
   "pygments_lexer": "ipython3",
   "version": "3.10.9"
  }
 },
 "nbformat": 4,
 "nbformat_minor": 5
}
