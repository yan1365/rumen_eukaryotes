{
 "cells": [
  {
   "cell_type": "code",
   "execution_count": null,
   "id": "e41203f3",
   "metadata": {},
   "outputs": [],
   "source": [
    "import os\n",
    "import pandas as pd\n",
    "from Bio import SeqIO\n",
    "import sys\n",
    "import random\n",
    "import glob\n",
    "import shutil\n",
    "import utils_preprocessing as utils"
   ]
  },
  {
   "cell_type": "code",
   "execution_count": null,
   "id": "92f1cf55",
   "metadata": {},
   "outputs": [],
   "source": [
    "# fungi = pd.read_csv(\"/fs/ess/PAS0439/MING/cilates_fungi_classifier/dataset_fungi.csv\")"
   ]
  },
  {
   "cell_type": "code",
   "execution_count": null,
   "id": "ac09ee82",
   "metadata": {},
   "outputs": [],
   "source": [
    "# protozoa = pd.read_csv(\"/fs/ess/PAS0439/MING/cilates_fungi_classifier/dataset_protozoa.csv\")"
   ]
  },
  {
   "cell_type": "code",
   "execution_count": null,
   "id": "784d97a3",
   "metadata": {},
   "outputs": [],
   "source": [
    "# proka = pd.read_csv(\"/fs/ess/PAS0439/MING/cilates_fungi_classifier/dataset_pro.csv\")"
   ]
  },
  {
   "cell_type": "code",
   "execution_count": null,
   "id": "92bf99aa",
   "metadata": {},
   "outputs": [],
   "source": [
    "# fungi_genus = []\n",
    "# selected_fungi = []\n",
    "# for index, row in fungi.iterrows():\n",
    "#     Genus = row[\"Genus\"]\n",
    "#     name = row[\"name\"]\n",
    "#     if Genus in fungi_genus:\n",
    "#         continue\n",
    "#     else:\n",
    "#         fungi_genus.append(Genus)\n",
    "#         selected_fungi.append(name)"
   ]
  },
  {
   "cell_type": "code",
   "execution_count": null,
   "id": "85505e7a",
   "metadata": {},
   "outputs": [],
   "source": [
    "# fungi_repre = fungi[fungi.name.isin(selected_fungi)].reset_index(drop = True)"
   ]
  },
  {
   "cell_type": "code",
   "execution_count": null,
   "id": "0f724b3e",
   "metadata": {},
   "outputs": [],
   "source": [
    "#  protozoa[\"Genus\"] = [f[0] for f in protozoa.taxa.str.split(\" \")]"
   ]
  },
  {
   "cell_type": "code",
   "execution_count": null,
   "id": "7997d610",
   "metadata": {},
   "outputs": [],
   "source": [
    "# protozoa_genus = []\n",
    "# selected_protozoa = []\n",
    "# for index, row in protozoa.iterrows():\n",
    "#     Genus = row[\"Genus\"]\n",
    "#     name = row[\"id\"]\n",
    "#     if Genus in protozoa_genus:\n",
    "#         continue\n",
    "#     else:\n",
    "#         protozoa_genus.append(Genus)\n",
    "#         selected_protozoa.append(name)"
   ]
  },
  {
   "cell_type": "code",
   "execution_count": null,
   "id": "6fcf45f1",
   "metadata": {},
   "outputs": [],
   "source": [
    "# protozoa_repre = protozoa[protozoa.id.isin(selected_protozoa)].reset_index(drop = True)\n",
    "# protozoa_repre = protozoa.copy()"
   ]
  },
  {
   "cell_type": "code",
   "execution_count": null,
   "id": "81c98f9f",
   "metadata": {},
   "outputs": [],
   "source": [
    "# proka_genus = []\n",
    "# selected_proka = []\n",
    "# for index, row in proka.iterrows():\n",
    "#     Genus = row[\"genus\"]\n",
    "#     name = row[\"id\"]\n",
    "#     if Genus in proka_genus:\n",
    "#         continue\n",
    "#     else:\n",
    "#         proka_genus.append(Genus)\n",
    "#         selected_proka.append(name)\n",
    "        \n",
    "# selected_proka_files = [f + \"_genomic.fna\" for f in selected_proka]"
   ]
  },
  {
   "cell_type": "code",
   "execution_count": null,
   "id": "1b23f152",
   "metadata": {},
   "outputs": [],
   "source": [
    "# proka_repre = proka[proka.id.isin(selected_proka)].reset_index(drop = True)"
   ]
  },
  {
   "cell_type": "code",
   "execution_count": null,
   "id": "dc92e3b3",
   "metadata": {},
   "outputs": [],
   "source": [
    "# os.chdir(\"/fs/scratch/PAS0439/Ming/databases/gtdb_r214/gtdb_genomes_reps_r214/database/\")\n",
    "# for f in glob.glob(\"*\"):\n",
    "#     if f in selected_proka_files:\n",
    "#         genome = f.split(\"/\")[-1]\n",
    "#         random_choice = random.choices([0, 1, 2], weights=[0.7, 0.15, 0.15], k=1)[0] \n",
    "#         source_file = f\"{genome}\"\n",
    "#         if random_choice == 0:\n",
    "#             destination_dir = f\"/fs/scratch/PAS0439/Ming/databases/gut_eukaryotes_classifier/train/proka/{genome}\"\n",
    "#             shutil.copy(source_file, destination_dir)\n",
    "#         elif random_choice == 1:\n",
    "#             destination_dir = f\"/fs/scratch/PAS0439/Ming/databases/gut_eukaryotes_classifier/val/proka/{genome}\"\n",
    "#             shutil.copy(source_file, destination_dir)\n",
    "#         else:\n",
    "#             destination_dir = f\"/fs/scratch/PAS0439/Ming/databases/gut_eukaryotes_classifier/test/proka/{genome}\"\n",
    "#             shutil.copy(source_file, destination_dir)\n",
    "#     else:\n",
    "#         continue"
   ]
  },
  {
   "cell_type": "code",
   "execution_count": null,
   "id": "490066ed",
   "metadata": {},
   "outputs": [],
   "source": [
    "# os.chdir(\"/fs/ess/PAS0439/MING/databases/fungi1000/fungi_with_seqid/\")\n",
    "# for f in glob.glob(\"*\"):\n",
    "#     if f in list(fungi_repre.files):\n",
    "#         genome = f.split(\"/\")[-1]\n",
    "#         random_choice = random.choices([0, 1, 2], weights=[0.7, 0.15, 0.15], k=1)[0] \n",
    "#         source_file = f\"{genome}\"\n",
    "#         if random_choice == 0:\n",
    "#             destination_dir = f\"/fs/scratch/PAS0439/Ming/databases/gut_eukaryotes_classifier/train/fungi/{genome}\"\n",
    "#             shutil.copy(source_file, destination_dir)\n",
    "#         elif random_choice == 1:\n",
    "#             destination_dir = f\"/fs/scratch/PAS0439/Ming/databases/gut_eukaryotes_classifier/val/fungi/{genome}\"\n",
    "#             shutil.copy(source_file, destination_dir)\n",
    "#         else:\n",
    "#             destination_dir = f\"/fs/scratch/PAS0439/Ming/databases/gut_eukaryotes_classifier/test/fungi/{genome}\"\n",
    "#             shutil.copy(source_file, destination_dir)\n",
    "#     else:\n",
    "#         continue"
   ]
  },
  {
   "cell_type": "code",
   "execution_count": null,
   "id": "c426c3ff",
   "metadata": {},
   "outputs": [],
   "source": [
    "# os.chdir(\"/fs/ess/PAS0439/MING/databases/protozoa_genome_genbank/genomes\")\n",
    "# for f in glob.glob(\"*\"):\n",
    "#     _ = f.split('_')[0]\n",
    "#     genome = f.split(\"/\")[-1]\n",
    "#     random_choice = random.choices([0, 1, 2], weights=[0.7, 0.15, 0.15], k=1)[0] \n",
    "#     source_file = f\"{genome}\"\n",
    "#     if random_choice == 0:\n",
    "#         destination_dir = f\"/fs/scratch/PAS0439/Ming/databases/gut_eukaryotes_classifier/train/protozoa/{genome}\"\n",
    "#         shutil.copy(source_file, destination_dir)\n",
    "#     elif random_choice == 1:\n",
    "#         destination_dir = f\"/fs/scratch/PAS0439/Ming/databases/gut_eukaryotes_classifier/val/protozoa/{genome}\"\n",
    "#         shutil.copy(source_file, destination_dir)\n",
    "#     else:\n",
    "#         destination_dir = f\"/fs/scratch/PAS0439/Ming/databases/gut_eukaryotes_classifier/test/protozoa/{genome}\"\n",
    "#         shutil.copy(source_file, destination_dir)\n"
   ]
  },
  {
   "cell_type": "code",
   "execution_count": null,
   "id": "215a47db",
   "metadata": {},
   "outputs": [],
   "source": [
    "#utils.chop_genomes_parallel(\"/fs/scratch/PAS0439/Ming/databases/gut_eukaryotes_classifier/ciliates_sags/\", output_dir = \"/fs/scratch/PAS0439/Ming/databases/gut_eukaryotes_classifier/ciliates_sags_5kb/\", fragment_size = 5000, sliding_window = 2000, subsample =1, cores=None)\n"
   ]
  },
  {
   "cell_type": "code",
   "execution_count": null,
   "id": "36a3f733",
   "metadata": {},
   "outputs": [],
   "source": [
    "utils.chop_genomes_parallel(\"/fs/scratch/PAS0439/Ming/databases/gut_eukaryotes_classifier/train/proka\", output_dir = \"/fs/scratch/PAS0439/Ming/databases/gut_eukaryotes_classifier/train/proka_5kb\", fragment_size = 5000, sliding_window = 5000, subsample = 0.285, cores=None)\n",
    "utils.chop_genomes_parallel(\"/fs/scratch/PAS0439/Ming/databases/gut_eukaryotes_classifier/val/proka\", output_dir = \"/fs/scratch/PAS0439/Ming/databases/gut_eukaryotes_classifier/val/proka_5kb\", fragment_size = 5000, sliding_window = 5000, subsample = 0.285, cores=None)\n",
    "utils.chop_genomes_parallel(\"/fs/scratch/PAS0439/Ming/databases/gut_eukaryotes_classifier/test/proka\", output_dir = \"/fs/scratch/PAS0439/Ming/databases/gut_eukaryotes_classifier/test/proka_5kb\", fragment_size = 5000, sliding_window = 5000, subsample = 0.285, cores=None)"
   ]
  },
  {
   "cell_type": "code",
   "execution_count": null,
   "id": "43b21f54",
   "metadata": {},
   "outputs": [],
   "source": [
    "utils.chop_genomes_parallel(\"/fs/scratch/PAS0439/Ming/databases/gut_eukaryotes_classifier/train/fungi\", output_dir = \"/fs/scratch/PAS0439/Ming/databases/gut_eukaryotes_classifier/train/fungi_5kb\", fragment_size = 5000, sliding_window = 5000, subsample = 0.285, cores=None)\n",
    "utils.chop_genomes_parallel(\"/fs/scratch/PAS0439/Ming/databases/gut_eukaryotes_classifier/val/fungi\", output_dir = \"/fs/scratch/PAS0439/Ming/databases/gut_eukaryotes_classifier/val/fungi_5kb\", fragment_size = 5000, sliding_window = 5000, subsample = 0.285, cores=None)\n",
    "utils.chop_genomes_parallel(\"/fs/scratch/PAS0439/Ming/databases/gut_eukaryotes_classifier/test/fungi/\", output_dir = \"/fs/scratch/PAS0439/Ming/databases/gut_eukaryotes_classifier/test/fungi_5kb\", fragment_size = 5000, sliding_window = 5000, subsample = 0.285, cores=None)"
   ]
  },
  {
   "cell_type": "code",
   "execution_count": null,
   "id": "aa0fe6cb",
   "metadata": {},
   "outputs": [],
   "source": [
    "utils.chop_genomes_parallel(\"/fs/scratch/PAS0439/Ming/databases/gut_eukaryotes_classifier/train/protozoa\", output_dir = \"/fs/scratch/PAS0439/Ming/databases/gut_eukaryotes_classifier/train/protozoa_5kb\", fragment_size = 5000, sliding_window = 5000, subsample = 0.5, cores=None)\n",
    "utils.chop_genomes_parallel(\"/fs/scratch/PAS0439/Ming/databases/gut_eukaryotes_classifier/val/protozoa\", output_dir = \"/fs/scratch/PAS0439/Ming/databases/gut_eukaryotes_classifier/val/protozoa_5kb\", fragment_size = 5000, sliding_window = 5000, subsample = 0.5, cores=None)\n",
    "utils.chop_genomes_parallel(\"/fs/scratch/PAS0439/Ming/databases/gut_eukaryotes_classifier/test/protozoa\", output_dir = \"/fs/scratch/PAS0439/Ming/databases/gut_eukaryotes_classifier/test/protozoa_5kb\", fragment_size = 5000, sliding_window = 5000, subsample = 0.5, cores=None)"
   ]
  },
  {
   "cell_type": "code",
   "execution_count": null,
   "id": "f1510734",
   "metadata": {},
   "outputs": [],
   "source": [
    "os.chdir(\"/fs/scratch/PAS0439/Ming/databases/gut_eukaryotes_classifier/train/\")\n",
    "proka_train = glob.glob(\"proka/*\")\n",
    "fungi_train = glob.glob(\"fungi/*\")\n",
    "protozoa_train = glob.glob(\"protozoa/*\")"
   ]
  },
  {
   "cell_type": "code",
   "execution_count": null,
   "id": "e63b337f",
   "metadata": {},
   "outputs": [],
   "source": [
    "os.chdir(\"/fs/scratch/PAS0439/Ming/databases/gut_eukaryotes_classifier/val/\")\n",
    "proka_val = glob.glob(\"proka/*\")\n",
    "fungi_val = glob.glob(\"fungi/*\")\n",
    "protozoa_val = glob.glob(\"protozoa/*\")"
   ]
  },
  {
   "cell_type": "code",
   "execution_count": null,
   "id": "6503dc54",
   "metadata": {},
   "outputs": [],
   "source": [
    "os.chdir(\"/fs/scratch/PAS0439/Ming/databases/gut_eukaryotes_classifier/test/\")\n",
    "proka_test = glob.glob(\"proka/*\")\n",
    "fungi_test = glob.glob(\"fungi/*\")\n",
    "protozoa_test = glob.glob(\"protozoa/*\")"
   ]
  },
  {
   "cell_type": "code",
   "execution_count": null,
   "id": "d6be0d24",
   "metadata": {},
   "outputs": [],
   "source": [
    "protozoa_train = [f.split(\"_\")[0] + \"_\" + f.split(\"_\")[1] for f in protozoa_train]\n",
    "protozoa_val = [f.split(\"_\")[0] + \"_\" + f.split(\"_\")[1] for f in protozoa_val]\n",
    "protozoa_test = [f.split(\"_\")[0] + \"_\" + f.split(\"_\")[1] for f in protozoa_test]"
   ]
  },
  {
   "cell_type": "code",
   "execution_count": null,
   "id": "2056f836",
   "metadata": {},
   "outputs": [],
   "source": [
    "for index, row in proka_repre.iterrows():\n",
    "    ID = row[\"id\"]\n",
    "    if 'proka/' + f\"{ID}\" + '_genomic.fna' in proka_train:\n",
    "        proka_repre.loc[index, \"dataset\"] = \"train\"\n",
    "    elif 'proka/' + f\"{ID}\" + '_genomic.fna' in proka_val:\n",
    "        proka_repre.loc[index, \"dataset\"] = \"Validation\"\n",
    "    else:\n",
    "        proka_repre.loc[index, \"dataset\"] = \"Test\"\n"
   ]
  },
  {
   "cell_type": "code",
   "execution_count": null,
   "id": "cc4f3c97",
   "metadata": {},
   "outputs": [],
   "source": [
    "for index, row in fungi_repre.iterrows():\n",
    "    ID = row[\"files\"]\n",
    "    if 'fungi/' + f\"{ID}\" in fungi_train:\n",
    "        fungi_repre.loc[index, \"dataset\"] = \"train\"\n",
    "    elif 'fungi/' + f\"{ID}\"  in fungi_val:\n",
    "        fungi_repre.loc[index, \"dataset\"] = \"Validation\"\n",
    "    else:\n",
    "        fungi_repre.loc[index, \"dataset\"] = \"Test\""
   ]
  },
  {
   "cell_type": "code",
   "execution_count": null,
   "id": "a07556a9",
   "metadata": {},
   "outputs": [],
   "source": [
    "for index, row in protozoa_repre.iterrows():\n",
    "    ID = row[\"id\"]\n",
    "    if 'protozoa/' + f\"{ID}\" in protozoa_train:\n",
    "        protozoa_repre.loc[index, \"dataset\"] = \"train\"\n",
    "    elif 'protozoa/' + f\"{ID}\"  in protozoa_val:\n",
    "        protozoa_repre.loc[index, \"dataset\"] = \"Validation\"\n",
    "    else:\n",
    "        protozoa_repre.loc[index, \"dataset\"] = \"Test\""
   ]
  },
  {
   "cell_type": "code",
   "execution_count": null,
   "id": "572617cb",
   "metadata": {},
   "outputs": [],
   "source": [
    "fungi_repre.drop(\"Type\", axis = 1, inplace = True)\n"
   ]
  },
  {
   "cell_type": "code",
   "execution_count": null,
   "id": "7c7b73c9",
   "metadata": {},
   "outputs": [],
   "source": [
    "protozoa_repre.to_csv(\"/fs/ess/PAS0439/MING/cilates_fungi_classifier/dataset_protozoa_repre.csv\", index =None)\n",
    "proka_repre.to_csv(\"/fs/ess/PAS0439/MING/cilates_fungi_classifier/dataset_proka_repre.csv\", index =None)\n",
    "fungi_repre.to_csv(\"/fs/ess/PAS0439/MING/cilates_fungi_classifier/dataset_fungi_repre.csv\", index =None)"
   ]
  },
  {
   "cell_type": "code",
   "execution_count": null,
   "id": "f79060b1",
   "metadata": {},
   "outputs": [],
   "source": []
  },
  {
   "cell_type": "code",
   "execution_count": null,
   "id": "e780ca62",
   "metadata": {},
   "outputs": [],
   "source": []
  },
  {
   "cell_type": "code",
   "execution_count": null,
   "id": "ce511221",
   "metadata": {},
   "outputs": [],
   "source": []
  },
  {
   "cell_type": "code",
   "execution_count": null,
   "id": "2a7114e0",
   "metadata": {},
   "outputs": [],
   "source": []
  }
 ],
 "metadata": {
  "kernelspec": {
   "display_name": "MYENV [/fs/ess/PAS0439/MING/conda/MYENV]",
   "language": "python",
   "name": "conda_myenv"
  },
  "language_info": {
   "codemirror_mode": {
    "name": "ipython",
    "version": 3
   },
   "file_extension": ".py",
   "mimetype": "text/x-python",
   "name": "python",
   "nbconvert_exporter": "python",
   "pygments_lexer": "ipython3",
   "version": "3.10.9"
  }
 },
 "nbformat": 4,
 "nbformat_minor": 5
}
