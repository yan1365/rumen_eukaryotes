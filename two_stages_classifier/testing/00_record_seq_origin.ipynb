{
 "cells": [
  {
   "cell_type": "markdown",
   "id": "ecd6bed5",
   "metadata": {},
   "source": [
    "### For each sequence in the test set, record the genome origin \n",
    "### To see the classifier performance across different genomes (See EukRep paper, Fig 2C)"
   ]
  },
  {
   "cell_type": "code",
   "execution_count": null,
   "id": "b4f482fa",
   "metadata": {},
   "outputs": [],
   "source": [
    "import os\n",
    "import pandas as pd\n",
    "import glob\n",
    "from Bio import SeqIO\n",
    "import re"
   ]
  },
  {
   "cell_type": "code",
   "execution_count": null,
   "id": "02ae769c",
   "metadata": {},
   "outputs": [],
   "source": [
    "os.chdir(\"/fs/scratch/PAS0439/Ming/databases/gut_eukaryotes_classifier/test/\")"
   ]
  },
  {
   "cell_type": "code",
   "execution_count": null,
   "id": "4f3a0790",
   "metadata": {},
   "outputs": [],
   "source": [
    "fungi = glob.glob(\"fungi_5kb/*\")\n",
    "fungi_genome_seq = {}\n",
    "for genome in fungi:\n",
    "    ID = ''.join(genome.split('/')[1].split(\"_5000bp\"))\n",
    "    seqlist = []\n",
    "    records = SeqIO.parse(genome, \"fasta\")\n",
    "    for record in records:\n",
    "        seqlist.append(record.id)\n",
    "    fungi_genome_seq[ID] = seqlist"
   ]
  },
  {
   "cell_type": "code",
   "execution_count": null,
   "id": "77cf4edf",
   "metadata": {},
   "outputs": [],
   "source": [
    "proka = glob.glob(\"proka_5kb/*\")\n",
    "proka_genome_seq = {}\n",
    "for genome in proka:\n",
    "    ID = genome.split('/')[1].split(\"_genomic_5000bp.fasta\")[0]\n",
    "    seqlist = []\n",
    "    records = SeqIO.parse(genome, \"fasta\")\n",
    "    for record in records:\n",
    "        seqlist.append(record.id)\n",
    "    proka_genome_seq[ID] = seqlist"
   ]
  },
  {
   "cell_type": "code",
   "execution_count": null,
   "id": "e69a9250",
   "metadata": {},
   "outputs": [],
   "source": [
    "proto = glob.glob(\"protozoa_5kb/*\")\n",
    "proto_genome_seq = {}\n",
    "for genome in proto:\n",
    "    ID = re.search(\"(GCF_[0-9]*\\.[0-9]{1}).*\", genome).group(1)\n",
    "    seqlist = []\n",
    "    records = SeqIO.parse(genome, \"fasta\")\n",
    "    for record in records:\n",
    "        seqlist.append(record.id)\n",
    "    fungi_genome_seq[ID] = seqlist"
   ]
  },
  {
   "cell_type": "code",
   "execution_count": null,
   "id": "aa9b04b6",
   "metadata": {},
   "outputs": [],
   "source": [
    "sags_genome_seq = {}\n",
    "seqlist = []\n",
    "records = SeqIO.parse(\"sags_test_5000bp.fasta\", \"fasta\")\n",
    "for record in records:\n",
    "    genome = str(record.id).split('_')[0]\n",
    "    if genome in sags_genome_seq:\n",
    "        sags_genome_seq[genome].append(record.id)\n",
    "    else:\n",
    "        sags_genome_seq[genome] = [record.id]\n",
    "        "
   ]
  },
  {
   "cell_type": "code",
   "execution_count": null,
   "id": "1a94d923",
   "metadata": {},
   "outputs": [],
   "source": [
    "genome_seq_id = {**sags_genome_seq, **proto_genome_seq, **fungi_genome_seq, **proka_genome_seq}"
   ]
  },
  {
   "cell_type": "code",
   "execution_count": null,
   "id": "189fef97",
   "metadata": {},
   "outputs": [],
   "source": [
    "genomes_list = [] \n",
    "seqs_list= []\n",
    "\n",
    "for genome, seqs in genome_seq_id.items():\n",
    "    for seq in seqs:\n",
    "        genomes_list.append(genome)\n",
    "        seqs_list.append(seq)\n",
    "    \n",
    "genome_seq_df = pd.DataFrame.from_dict({\"genome\": genomes_list, \"seq\": seqs_list})"
   ]
  },
  {
   "cell_type": "code",
   "execution_count": null,
   "id": "e264cb18",
   "metadata": {},
   "outputs": [],
   "source": [
    "protozoa = pd.read_csv(\"/fs/ess/PAS0439/MING/cilates_fungi_classifier/dataset_protozoa_repre.csv\")\n",
    "proka = pd.read_csv(\"/fs/ess/PAS0439/MING/cilates_fungi_classifier/dataset_proka_repre.csv\")\n",
    "fungi = pd.read_csv(\"/fs/ess/PAS0439/MING/cilates_fungi_classifier/dataset_fungi_repre.csv\")\n",
    "sags = pd.read_csv(\"sags_test_5000bp.csv\", header = None)"
   ]
  },
  {
   "cell_type": "code",
   "execution_count": null,
   "id": "aafed872",
   "metadata": {},
   "outputs": [],
   "source": [
    "category = [] \n",
    "for index, row in genome_seq_df.iterrows():\n",
    "    genome = row['genome']\n",
    "    if genome in list(protozoa.id):\n",
    "        category.append(\"protozoa\")\n",
    "    elif genome in list(proka.id):\n",
    "        category.append(\"prokaryotes\")\n",
    "    elif genome in list(fungi.files):\n",
    "        category.append(\"fungi\")\n",
    "    else:\n",
    "        category.append(\"SAGs\")\n",
    "    \n",
    "    "
   ]
  },
  {
   "cell_type": "code",
   "execution_count": null,
   "id": "5cd3c01f",
   "metadata": {},
   "outputs": [],
   "source": [
    "genome_seq_df[\"category\"] = category"
   ]
  },
  {
   "cell_type": "code",
   "execution_count": null,
   "id": "9e93f95b",
   "metadata": {},
   "outputs": [],
   "source": [
    "genome_seq_df.to_csv(\"/fs/ess/PAS0439/MING/cilates_fungi_classifier/testset_seq_origin.csv\", index = None)"
   ]
  },
  {
   "cell_type": "code",
   "execution_count": null,
   "id": "c86f1bb0",
   "metadata": {},
   "outputs": [],
   "source": []
  }
 ],
 "metadata": {
  "kernelspec": {
   "display_name": "MYENV [/fs/ess/PAS0439/MING/conda/MYENV]",
   "language": "python",
   "name": "conda_myenv"
  },
  "language_info": {
   "codemirror_mode": {
    "name": "ipython",
    "version": 3
   },
   "file_extension": ".py",
   "mimetype": "text/x-python",
   "name": "python",
   "nbconvert_exporter": "python",
   "pygments_lexer": "ipython3",
   "version": "3.10.9"
  }
 },
 "nbformat": 4,
 "nbformat_minor": 5
}
