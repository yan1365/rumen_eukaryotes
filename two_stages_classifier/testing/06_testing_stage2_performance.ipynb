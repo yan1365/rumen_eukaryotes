{
 "cells": [
  {
   "cell_type": "code",
   "execution_count": 1,
   "id": "e3494d0f",
   "metadata": {},
   "outputs": [],
   "source": [
    "import torch\n",
    "import torchvision\n",
    "from torch.utils.data import Dataset, DataLoader\n",
    "import torch.nn as nn\n",
    "import torch.nn.functional as F\n",
    "import numpy as np\n",
    "import pandas as pd\n",
    "import subprocess\n",
    "import math\n",
    "import time\n",
    "from tqdm.auto import tqdm\n",
    "from torchmetrics.functional import accuracy, f1_score, auroc\n",
    "import random\n",
    "from pathlib import Path\n",
    "import os\n",
    "import sys\n",
    "from tqdm.auto import tqdm\n",
    "\n"
   ]
  },
  {
   "cell_type": "code",
   "execution_count": 2,
   "id": "26db363d",
   "metadata": {},
   "outputs": [],
   "source": [
    "sys.path.append('../training/')\n",
    "import utils\n",
    "from utils import precision_recall"
   ]
  },
  {
   "cell_type": "code",
   "execution_count": 4,
   "id": "11deee65",
   "metadata": {},
   "outputs": [],
   "source": [
    "cnn_list = []\n",
    "kmerfre_list = []\n",
    "ensembled_list = []\n",
    "ensembled_possi = []\n",
    "y_list = []\n",
    "ID_list = []\n",
    "for i in range(40):    \n",
    "    test = utils.mydataset_ensembled(\"/fs/ess/PAS0439/MING/cilates_fungi_classifier/outputs/GutEuk_classifier/stage2/testing/\", str(i).zfill(3), 1)   \n",
    "    test_loader = DataLoader(dataset=test,\n",
    "                    shuffle=False) \n",
    "\n",
    "    for _, (ID, cnn, kmerfre, y) in enumerate(test_loader): \n",
    "\n",
    "        ensembled = (cnn.view(-1) + kmerfre.view(-1))/2\n",
    "        ensembled_pre = ensembled.argmax().item()\n",
    "        cnn_pre = cnn.argmax().item()\n",
    "        kmerfre_pre = kmerfre.argmax().item()\n",
    "        ensembled_possibility = max(ensembled.numpy())\n",
    "        \n",
    "        cnn_list.append(cnn_pre)\n",
    "        kmerfre_list.append(kmerfre_pre)\n",
    "        ensembled_list.append(ensembled_pre)\n",
    "        y_list.append(y.item())\n",
    "        ID_list.append(ID[0][0])\n",
    "        ensembled_possi.append(ensembled_possibility)\n",
    "\n",
    "        \n",
    "        \n"
   ]
  },
  {
   "cell_type": "code",
   "execution_count": 5,
   "id": "ea8fa4af",
   "metadata": {},
   "outputs": [],
   "source": [
    "test_out = pd.DataFrame({\"seq\":ID_list , \"cnn_out\": cnn_list, \"kmerfre_out\": kmerfre_list, \"ensembled_out\": ensembled_list, \"Y\": y_list, \"ensembled_possibility\": ensembled_possi})"
   ]
  },
  {
   "cell_type": "code",
   "execution_count": 6,
   "id": "f7a65c5b",
   "metadata": {},
   "outputs": [
    {
     "name": "stdout",
     "output_type": "stream",
     "text": [
      "Class 0: Precision: 99.34%| Recall: 95.47%\n",
      "Class 1: Precision: 91.75%| Recall: 98.76%\n"
     ]
    }
   ],
   "source": [
    "precision_recall(kmerfre_list, y_list)"
   ]
  },
  {
   "cell_type": "code",
   "execution_count": 7,
   "id": "37e7a5c5",
   "metadata": {},
   "outputs": [
    {
     "name": "stdout",
     "output_type": "stream",
     "text": [
      "Class 0: Precision: 99.30%| Recall: 94.31%\n",
      "Class 1: Precision: 89.84%| Recall: 98.70%\n"
     ]
    }
   ],
   "source": [
    "precision_recall(cnn_list, y_list)"
   ]
  },
  {
   "cell_type": "code",
   "execution_count": 8,
   "id": "cf4b130d",
   "metadata": {},
   "outputs": [
    {
     "name": "stdout",
     "output_type": "stream",
     "text": [
      "Class 0: Precision: 99.59%| Recall: 96.10%\n",
      "Class 1: Precision: 92.85%| Recall: 99.22%\n"
     ]
    }
   ],
   "source": [
    "precision_recall(ensembled_list, y_list)"
   ]
  },
  {
   "cell_type": "code",
   "execution_count": 9,
   "id": "da4d4c61",
   "metadata": {},
   "outputs": [],
   "source": [
    "test_out.to_csv(\"/fs/ess/PAS0439/MING/cilates_fungi_classifier/test_res_stage2.csv\", index = None)"
   ]
  }
 ],
 "metadata": {
  "kernelspec": {
   "display_name": "pytorch [pytorch]",
   "language": "python",
   "name": "conda_pytorch"
  },
  "language_info": {
   "codemirror_mode": {
    "name": "ipython",
    "version": 3
   },
   "file_extension": ".py",
   "mimetype": "text/x-python",
   "name": "python",
   "nbconvert_exporter": "python",
   "pygments_lexer": "ipython3",
   "version": "3.9.18"
  }
 },
 "nbformat": 4,
 "nbformat_minor": 5
}
