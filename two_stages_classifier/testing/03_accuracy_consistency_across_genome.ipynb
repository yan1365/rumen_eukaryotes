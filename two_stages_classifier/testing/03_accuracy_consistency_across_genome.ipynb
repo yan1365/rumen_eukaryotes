{
 "cells": [
  {
   "cell_type": "markdown",
   "id": "3234345b",
   "metadata": {},
   "source": [
    "### Evaluate the classifier performance across different genomes (See EukRep paper, Fig 2C)"
   ]
  },
  {
   "cell_type": "code",
   "execution_count": 1,
   "id": "9d5a65ad",
   "metadata": {},
   "outputs": [],
   "source": [
    "import pandas as pd"
   ]
  },
  {
   "cell_type": "code",
   "execution_count": 2,
   "id": "4ce14097",
   "metadata": {},
   "outputs": [],
   "source": [
    "testing_res = pd.read_csv(\"/fs/ess/PAS0439/MING/cilates_fungi_classifier/test_res_stage1.csv\")"
   ]
  },
  {
   "cell_type": "code",
   "execution_count": 3,
   "id": "496f10c5",
   "metadata": {},
   "outputs": [],
   "source": [
    "seq_origin = pd.read_csv(\"/fs/ess/PAS0439/MING/cilates_fungi_classifier/testset_seq_origin.csv\")"
   ]
  },
  {
   "cell_type": "code",
   "execution_count": 4,
   "id": "f2bdfec0",
   "metadata": {},
   "outputs": [],
   "source": [
    "testing_merged = pd.merge(testing_res, seq_origin, on = \"seq\")"
   ]
  },
  {
   "cell_type": "code",
   "execution_count": 5,
   "id": "1d4275dc",
   "metadata": {},
   "outputs": [],
   "source": [
    "fungi_genomes = set(testing_merged.query('category == \"fungi\"').genome)\n",
    "protozoa_genomes = set(testing_merged.query('category == \"protozoa\"').genome) \n",
    "sags_genomes =  set(testing_merged.query('category == \"SAGs\"').genome)\n",
    "prokaryotes_genomes = set(testing_merged.query('category == \"prokaryotes\"').genome)"
   ]
  },
  {
   "cell_type": "code",
   "execution_count": 6,
   "id": "c8fcf497",
   "metadata": {},
   "outputs": [],
   "source": [
    "genome_origin = []\n",
    "accuracy_list = []\n",
    "genome_list = []"
   ]
  },
  {
   "cell_type": "code",
   "execution_count": 7,
   "id": "c8038309",
   "metadata": {},
   "outputs": [],
   "source": [
    "for fungi in fungi_genomes:\n",
    "    df = testing_merged.query('genome == @fungi')\n",
    "    correct = 0\n",
    "    incorrect = 0\n",
    "    for index, row in df.iterrows():\n",
    "        pred = row['ensembled_out']\n",
    "        Y = row['Y']\n",
    "        if pred == Y:\n",
    "            correct += 1\n",
    "        else:\n",
    "            incorrect += 1\n",
    "    \n",
    "    accuracy = correct / (correct + incorrect)\n",
    "    genome_origin.append(\"fungi\")\n",
    "    accuracy_list.append(accuracy)\n",
    "    genome_list.append(fungi)\n",
    "        \n"
   ]
  },
  {
   "cell_type": "code",
   "execution_count": 8,
   "id": "8596dbd4",
   "metadata": {},
   "outputs": [],
   "source": [
    "for protozoa in protozoa_genomes:\n",
    "    df = testing_merged.query('genome == @protozoa')\n",
    "    correct = 0\n",
    "    incorrect = 0\n",
    "    for index, row in df.iterrows():\n",
    "        pred = row['ensembled_out']\n",
    "        Y = row['Y']\n",
    "        if pred == Y:\n",
    "            correct += 1\n",
    "        else:\n",
    "            incorrect += 1\n",
    "    \n",
    "    accuracy = correct / (correct + incorrect)\n",
    "    genome_origin.append(\"protozoa\")\n",
    "    accuracy_list.append(accuracy)\n",
    "    genome_list.append(protozoa)\n"
   ]
  },
  {
   "cell_type": "code",
   "execution_count": 9,
   "id": "d8084054",
   "metadata": {},
   "outputs": [],
   "source": [
    "for sag in sags_genomes:\n",
    "    df = testing_merged.query('genome == @sag')\n",
    "    correct = 0\n",
    "    incorrect = 0\n",
    "    for index, row in df.iterrows():\n",
    "        pred = row['ensembled_out']\n",
    "        Y = row['Y']\n",
    "        if pred == Y:\n",
    "            correct += 1\n",
    "        else:\n",
    "            incorrect += 1\n",
    "    \n",
    "    accuracy = correct / (correct + incorrect)\n",
    "    genome_origin.append(\"SAG\")\n",
    "    accuracy_list.append(accuracy)\n",
    "    genome_list.append(sag)\n"
   ]
  },
  {
   "cell_type": "code",
   "execution_count": 10,
   "id": "ff2f43a6",
   "metadata": {},
   "outputs": [],
   "source": [
    "for proka in prokaryotes_genomes:\n",
    "    df = testing_merged.query('genome == @proka')\n",
    "    correct = 0\n",
    "    incorrect = 0\n",
    "    for index, row in df.iterrows():\n",
    "        pred = row['ensembled_out']\n",
    "        Y = row['Y']\n",
    "        if pred == Y:\n",
    "            correct += 1\n",
    "        else:\n",
    "            incorrect += 1\n",
    "    \n",
    "    accuracy = correct / (correct + incorrect)\n",
    "    genome_origin.append(\"prokaryotes\")\n",
    "    accuracy_list.append(accuracy)\n",
    "    genome_list.append(proka)\n"
   ]
  },
  {
   "cell_type": "code",
   "execution_count": 16,
   "id": "d61b4d27",
   "metadata": {},
   "outputs": [],
   "source": [
    "accuracy_per_genome = pd.DataFrame({\"genome_origin\": genome_origin, \"accuracy\": accuracy_list, \"genome\":genome_list})\n",
    "accuracy_per_genome.to_csv(\"/fs/ess/PAS0439/MING/cilates_fungi_classifier/stats_visualization/accuracy_per_genome.csv\", index = None)"
   ]
  }
 ],
 "metadata": {
  "kernelspec": {
   "display_name": "MYENV [/fs/ess/PAS0439/MING/conda/MYENV]",
   "language": "python",
   "name": "conda_myenv"
  },
  "language_info": {
   "codemirror_mode": {
    "name": "ipython",
    "version": 3
   },
   "file_extension": ".py",
   "mimetype": "text/x-python",
   "name": "python",
   "nbconvert_exporter": "python",
   "pygments_lexer": "ipython3",
   "version": "3.10.9"
  }
 },
 "nbformat": 4,
 "nbformat_minor": 5
}
