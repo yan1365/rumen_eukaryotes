{
 "cells": [
  {
   "cell_type": "markdown",
   "id": "3234345b",
   "metadata": {},
   "source": [
    "### Evaluate the classifier performance across different genomes (See EukRep paper, Fig 2C)"
   ]
  },
  {
   "cell_type": "code",
   "execution_count": 1,
   "id": "9d5a65ad",
   "metadata": {},
   "outputs": [],
   "source": [
    "import pandas as pd"
   ]
  },
  {
   "cell_type": "code",
   "execution_count": 2,
   "id": "4ce14097",
   "metadata": {},
   "outputs": [],
   "source": [
    "testing_res = pd.read_csv(\"/fs/ess/PAS0439/MING/cilates_fungi_classifier/test_res_stage1.csv\")"
   ]
  },
  {
   "cell_type": "code",
   "execution_count": 3,
   "id": "496f10c5",
   "metadata": {},
   "outputs": [],
   "source": [
    "seq_origin = pd.read_csv(\"/fs/ess/PAS0439/MING/cilates_fungi_classifier/testset_seq_origin.csv\")"
   ]
  },
  {
   "cell_type": "code",
   "execution_count": 4,
   "id": "f2bdfec0",
   "metadata": {},
   "outputs": [],
   "source": [
    "testing_merged = pd.merge(testing_res, seq_origin, on = \"seq\")"
   ]
  },
  {
   "cell_type": "code",
   "execution_count": 5,
   "id": "1d4275dc",
   "metadata": {},
   "outputs": [],
   "source": [
    "fungi_genomes = set(testing_merged.query('category == \"fungi\"').genome)\n",
    "protozoa_genomes = set(testing_merged.query('category == \"protozoa\"').genome) \n",
    "sags_genomes =  set(testing_merged.query('category == \"SAGs\"').genome)\n",
    "prokaryotes_genomes = set(testing_merged.query('category == \"prokaryotes\"').genome)"
   ]
  },
  {
   "cell_type": "code",
   "execution_count": 6,
   "id": "c8fcf497",
   "metadata": {},
   "outputs": [],
   "source": [
    "genome_origin = []\n",
    "accuracy_list = []"
   ]
  },
  {
   "cell_type": "code",
   "execution_count": 7,
   "id": "c8038309",
   "metadata": {},
   "outputs": [],
   "source": [
    "for fungi in fungi_genomes:\n",
    "    df = testing_merged.query('genome == @fungi')\n",
    "    correct = 0\n",
    "    incorrect = 0\n",
    "    for index, row in df.iterrows():\n",
    "        pred = row['ensembled_out']\n",
    "        Y = row['Y']\n",
    "        if pred == Y:\n",
    "            correct += 1\n",
    "        else:\n",
    "            incorrect += 1\n",
    "    \n",
    "    accuracy = correct / (correct + incorrect)\n",
    "    genome_origin.append(\"fungi\")\n",
    "    accuracy_list.append(accuracy)\n",
    "        \n"
   ]
  },
  {
   "cell_type": "code",
   "execution_count": 8,
   "id": "8596dbd4",
   "metadata": {},
   "outputs": [],
   "source": [
    "for protozoa in protozoa_genomes:\n",
    "    df = testing_merged.query('genome == @protozoa')\n",
    "    correct = 0\n",
    "    incorrect = 0\n",
    "    for index, row in df.iterrows():\n",
    "        pred = row['ensembled_out']\n",
    "        Y = row['Y']\n",
    "        if pred == Y:\n",
    "            correct += 1\n",
    "        else:\n",
    "            incorrect += 1\n",
    "    \n",
    "    accuracy = correct / (correct + incorrect)\n",
    "    genome_origin.append(\"protozoa\")\n",
    "    accuracy_list.append(accuracy)\n"
   ]
  },
  {
   "cell_type": "code",
   "execution_count": 9,
   "id": "d8084054",
   "metadata": {},
   "outputs": [],
   "source": [
    "for sag in sags_genomes:\n",
    "    df = testing_merged.query('genome == @sag')\n",
    "    correct = 0\n",
    "    incorrect = 0\n",
    "    for index, row in df.iterrows():\n",
    "        pred = row['ensembled_out']\n",
    "        Y = row['Y']\n",
    "        if pred == Y:\n",
    "            correct += 1\n",
    "        else:\n",
    "            incorrect += 1\n",
    "    \n",
    "    accuracy = correct / (correct + incorrect)\n",
    "    genome_origin.append(\"SAG\")\n",
    "    accuracy_list.append(accuracy)\n"
   ]
  },
  {
   "cell_type": "code",
   "execution_count": 10,
   "id": "ff2f43a6",
   "metadata": {},
   "outputs": [],
   "source": [
    "for proka in prokaryotes_genomes:\n",
    "    df = testing_merged.query('genome == @proka')\n",
    "    correct = 0\n",
    "    incorrect = 0\n",
    "    for index, row in df.iterrows():\n",
    "        pred = row['ensembled_out']\n",
    "        Y = row['Y']\n",
    "        if pred == Y:\n",
    "            correct += 1\n",
    "        else:\n",
    "            incorrect += 1\n",
    "    \n",
    "    accuracy = correct / (correct + incorrect)\n",
    "    genome_origin.append(\"prokaryotes\")\n",
    "    accuracy_list.append(accuracy)\n"
   ]
  },
  {
   "cell_type": "code",
   "execution_count": 11,
   "id": "d61b4d27",
   "metadata": {},
   "outputs": [],
   "source": [
    "accuracy_per_genome = pd.DataFrame({\"genome_origin\": genome_origin, \"accuracy\": accuracy_list})\n",
    "accuracy_per_genome.to_csv(\"/fs/ess/PAS0439/MING/cilates_fungi_classifier/stats_visualization/accuracy_per_genome.csv\", index = None)"
   ]
  },
  {
   "cell_type": "code",
   "execution_count": 13,
   "id": "168bab91",
   "metadata": {},
   "outputs": [
    {
     "data": {
      "text/html": [
       "<div>\n",
       "<style scoped>\n",
       "    .dataframe tbody tr th:only-of-type {\n",
       "        vertical-align: middle;\n",
       "    }\n",
       "\n",
       "    .dataframe tbody tr th {\n",
       "        vertical-align: top;\n",
       "    }\n",
       "\n",
       "    .dataframe thead th {\n",
       "        text-align: right;\n",
       "    }\n",
       "</style>\n",
       "<table border=\"1\" class=\"dataframe\">\n",
       "  <thead>\n",
       "    <tr style=\"text-align: right;\">\n",
       "      <th></th>\n",
       "      <th>genome_origin</th>\n",
       "      <th>accuracy</th>\n",
       "    </tr>\n",
       "  </thead>\n",
       "  <tbody>\n",
       "    <tr>\n",
       "      <th>0</th>\n",
       "      <td>fungi</td>\n",
       "      <td>1.000000</td>\n",
       "    </tr>\n",
       "    <tr>\n",
       "      <th>1</th>\n",
       "      <td>fungi</td>\n",
       "      <td>0.995890</td>\n",
       "    </tr>\n",
       "    <tr>\n",
       "      <th>2</th>\n",
       "      <td>fungi</td>\n",
       "      <td>0.999638</td>\n",
       "    </tr>\n",
       "    <tr>\n",
       "      <th>3</th>\n",
       "      <td>fungi</td>\n",
       "      <td>1.000000</td>\n",
       "    </tr>\n",
       "    <tr>\n",
       "      <th>4</th>\n",
       "      <td>fungi</td>\n",
       "      <td>0.996607</td>\n",
       "    </tr>\n",
       "    <tr>\n",
       "      <th>...</th>\n",
       "      <td>...</td>\n",
       "      <td>...</td>\n",
       "    </tr>\n",
       "    <tr>\n",
       "      <th>102</th>\n",
       "      <td>fungi</td>\n",
       "      <td>0.996658</td>\n",
       "    </tr>\n",
       "    <tr>\n",
       "      <th>105</th>\n",
       "      <td>fungi</td>\n",
       "      <td>1.000000</td>\n",
       "    </tr>\n",
       "    <tr>\n",
       "      <th>106</th>\n",
       "      <td>fungi</td>\n",
       "      <td>0.999709</td>\n",
       "    </tr>\n",
       "    <tr>\n",
       "      <th>107</th>\n",
       "      <td>fungi</td>\n",
       "      <td>0.994530</td>\n",
       "    </tr>\n",
       "    <tr>\n",
       "      <th>108</th>\n",
       "      <td>fungi</td>\n",
       "      <td>0.999451</td>\n",
       "    </tr>\n",
       "  </tbody>\n",
       "</table>\n",
       "<p>103 rows × 2 columns</p>\n",
       "</div>"
      ],
      "text/plain": [
       "    genome_origin  accuracy\n",
       "0           fungi  1.000000\n",
       "1           fungi  0.995890\n",
       "2           fungi  0.999638\n",
       "3           fungi  1.000000\n",
       "4           fungi  0.996607\n",
       "..            ...       ...\n",
       "102         fungi  0.996658\n",
       "105         fungi  1.000000\n",
       "106         fungi  0.999709\n",
       "107         fungi  0.994530\n",
       "108         fungi  0.999451\n",
       "\n",
       "[103 rows x 2 columns]"
      ]
     },
     "execution_count": 13,
     "metadata": {},
     "output_type": "execute_result"
    }
   ],
   "source": [
    "accuracy_per_genome.query('genome_origin == \"fungi\"').query('accuracy > 0.95')"
   ]
  },
  {
   "cell_type": "code",
   "execution_count": 14,
   "id": "125c3795",
   "metadata": {},
   "outputs": [
    {
     "data": {
      "text/html": [
       "<div>\n",
       "<style scoped>\n",
       "    .dataframe tbody tr th:only-of-type {\n",
       "        vertical-align: middle;\n",
       "    }\n",
       "\n",
       "    .dataframe tbody tr th {\n",
       "        vertical-align: top;\n",
       "    }\n",
       "\n",
       "    .dataframe thead th {\n",
       "        text-align: right;\n",
       "    }\n",
       "</style>\n",
       "<table border=\"1\" class=\"dataframe\">\n",
       "  <thead>\n",
       "    <tr style=\"text-align: right;\">\n",
       "      <th></th>\n",
       "      <th>genome_origin</th>\n",
       "      <th>accuracy</th>\n",
       "    </tr>\n",
       "  </thead>\n",
       "  <tbody>\n",
       "    <tr>\n",
       "      <th>0</th>\n",
       "      <td>fungi</td>\n",
       "      <td>1.000000</td>\n",
       "    </tr>\n",
       "    <tr>\n",
       "      <th>1</th>\n",
       "      <td>fungi</td>\n",
       "      <td>0.995890</td>\n",
       "    </tr>\n",
       "    <tr>\n",
       "      <th>2</th>\n",
       "      <td>fungi</td>\n",
       "      <td>0.999638</td>\n",
       "    </tr>\n",
       "    <tr>\n",
       "      <th>3</th>\n",
       "      <td>fungi</td>\n",
       "      <td>1.000000</td>\n",
       "    </tr>\n",
       "    <tr>\n",
       "      <th>4</th>\n",
       "      <td>fungi</td>\n",
       "      <td>0.996607</td>\n",
       "    </tr>\n",
       "    <tr>\n",
       "      <th>...</th>\n",
       "      <td>...</td>\n",
       "      <td>...</td>\n",
       "    </tr>\n",
       "    <tr>\n",
       "      <th>104</th>\n",
       "      <td>fungi</td>\n",
       "      <td>0.935780</td>\n",
       "    </tr>\n",
       "    <tr>\n",
       "      <th>105</th>\n",
       "      <td>fungi</td>\n",
       "      <td>1.000000</td>\n",
       "    </tr>\n",
       "    <tr>\n",
       "      <th>106</th>\n",
       "      <td>fungi</td>\n",
       "      <td>0.999709</td>\n",
       "    </tr>\n",
       "    <tr>\n",
       "      <th>107</th>\n",
       "      <td>fungi</td>\n",
       "      <td>0.994530</td>\n",
       "    </tr>\n",
       "    <tr>\n",
       "      <th>108</th>\n",
       "      <td>fungi</td>\n",
       "      <td>0.999451</td>\n",
       "    </tr>\n",
       "  </tbody>\n",
       "</table>\n",
       "<p>109 rows × 2 columns</p>\n",
       "</div>"
      ],
      "text/plain": [
       "    genome_origin  accuracy\n",
       "0           fungi  1.000000\n",
       "1           fungi  0.995890\n",
       "2           fungi  0.999638\n",
       "3           fungi  1.000000\n",
       "4           fungi  0.996607\n",
       "..            ...       ...\n",
       "104         fungi  0.935780\n",
       "105         fungi  1.000000\n",
       "106         fungi  0.999709\n",
       "107         fungi  0.994530\n",
       "108         fungi  0.999451\n",
       "\n",
       "[109 rows x 2 columns]"
      ]
     },
     "execution_count": 14,
     "metadata": {},
     "output_type": "execute_result"
    }
   ],
   "source": [
    "accuracy_per_genome.query('genome_origin == \"fungi\"')"
   ]
  },
  {
   "cell_type": "code",
   "execution_count": null,
   "id": "811c6706",
   "metadata": {},
   "outputs": [],
   "source": []
  }
 ],
 "metadata": {
  "kernelspec": {
   "display_name": "MYENV [/fs/ess/PAS0439/MING/conda/MYENV]",
   "language": "python",
   "name": "conda_myenv"
  },
  "language_info": {
   "codemirror_mode": {
    "name": "ipython",
    "version": 3
   },
   "file_extension": ".py",
   "mimetype": "text/x-python",
   "name": "python",
   "nbconvert_exporter": "python",
   "pygments_lexer": "ipython3",
   "version": "3.10.9"
  }
 },
 "nbformat": 4,
 "nbformat_minor": 5
}
