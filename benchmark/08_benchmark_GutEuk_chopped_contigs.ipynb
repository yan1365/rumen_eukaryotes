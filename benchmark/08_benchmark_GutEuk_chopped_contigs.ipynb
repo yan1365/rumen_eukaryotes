{
 "cells": [
  {
   "cell_type": "code",
   "execution_count": 1,
   "id": "6c16384e",
   "metadata": {},
   "outputs": [],
   "source": [
    "import os\n",
    "import pandas as pd\n",
    "from Bio import SeqIO"
   ]
  },
  {
   "cell_type": "code",
   "execution_count": 2,
   "id": "2a620751",
   "metadata": {},
   "outputs": [],
   "source": [
    "os.chdir(\"/fs/ess/PAS0439/MING/cilates_fungi_classifier/GutEuk_benchmark/\")"
   ]
  },
  {
   "cell_type": "code",
   "execution_count": 3,
   "id": "7ad9cd1e",
   "metadata": {},
   "outputs": [],
   "source": [
    "fungi_out = pd.read_csv(\"fungi_GutEuk_output.csv\")\n",
    "protozoa_out = pd.read_csv(\"protozoa_GutEuk_output.csv\")\n",
    "proka_out = pd.read_csv(\"proka_GutEuk_output.csv\")\n",
    "sags_out = pd.read_csv(\"sags_test_chopped_GutEuk_output.csv\")\n",
    "seqorigin = pd.read_csv(\"../testset_seq_origin_chopped.csv\")"
   ]
  },
  {
   "cell_type": "code",
   "execution_count": 4,
   "id": "9f902141",
   "metadata": {},
   "outputs": [],
   "source": [
    "GutEuk_out = pd.concat([proka_out, protozoa_out, fungi_out, sags_out])"
   ]
  },
  {
   "cell_type": "code",
   "execution_count": 5,
   "id": "c38d8378",
   "metadata": {},
   "outputs": [],
   "source": [
    "GutEuk_out_full = pd.merge(GutEuk_out, seqorigin, left_on = \"sequence_id\", right_on = \"sequence\")"
   ]
  },
  {
   "cell_type": "code",
   "execution_count": 6,
   "id": "6edef444",
   "metadata": {},
   "outputs": [],
   "source": [
    "seq_list = []\n",
    "seq_length = []\n",
    "records = SeqIO.parse(\"/fs/scratch/PAS0439/Ming/databases/gut_eukaryotes_classifier/test/test_chopped.fasta\", \"fasta\")\n",
    "for record in records:\n",
    "    if len(record.seq) >= 3000:\n",
    "        seq_list.append(str(record.id))\n",
    "        seq_length.append(len(record.seq))"
   ]
  },
  {
   "cell_type": "code",
   "execution_count": 7,
   "id": "0c49dc30",
   "metadata": {},
   "outputs": [],
   "source": [
    "sequence_length_df = pd.DataFrame.from_dict({\"sequence\":seq_list, \"seq_length\":seq_length})"
   ]
  },
  {
   "cell_type": "code",
   "execution_count": 8,
   "id": "f7d870cc",
   "metadata": {},
   "outputs": [],
   "source": [
    "GutEuk_out_full.drop(\"sequence_id\", axis = 1, inplace = True)"
   ]
  },
  {
   "cell_type": "code",
   "execution_count": 9,
   "id": "fa943678",
   "metadata": {},
   "outputs": [],
   "source": [
    "GutEuk_out_final = pd.merge(GutEuk_out_full, sequence_length_df, on = \"sequence\")"
   ]
  },
  {
   "cell_type": "code",
   "execution_count": 10,
   "id": "0aa21cf2",
   "metadata": {},
   "outputs": [],
   "source": [
    "GutEuk_out_final.to_csv(\"/fs/ess/PAS0439/MING/cilates_fungi_classifier/stats_visualization/GutEuk_benchmark_full.csv\", index = None)"
   ]
  },
  {
   "cell_type": "code",
   "execution_count": 11,
   "id": "fce2641e",
   "metadata": {},
   "outputs": [],
   "source": [
    "GutEuk_out_final_genome_length = GutEuk_out_final.groupby(\"genome\").seq_length.sum().reset_index()"
   ]
  },
  {
   "cell_type": "code",
   "execution_count": 12,
   "id": "ac202ac9",
   "metadata": {},
   "outputs": [],
   "source": [
    "genome_origin_guteuk = []\n",
    "genome_name = []\n",
    "precentage_corrected_genome = []"
   ]
  },
  {
   "cell_type": "code",
   "execution_count": 13,
   "id": "b7670d25",
   "metadata": {},
   "outputs": [],
   "source": [
    "fungi_genomes = set(GutEuk_out_final.query('genome_type == \"fungi\"').genome)\n",
    "protozoa_genomes = set(GutEuk_out_final.query('genome_type == \"protozoa\"').genome) \n",
    "sags_genomes =  set(GutEuk_out_final.query('genome_type == \"SAGs\"').genome)\n",
    "prokaryotes_genomes = set(GutEuk_out_final.query('genome_type == \"prokaryotes\"').genome)"
   ]
  },
  {
   "cell_type": "code",
   "execution_count": 14,
   "id": "4e6845de",
   "metadata": {},
   "outputs": [],
   "source": [
    "#GutEuk_out_final_filtered = GutEuk_out_final.query('stage1_prediction != \"undetermined\"').query('stage2_prediction != \"undetermined\"')\n",
    "for fungi in fungi_genomes:\n",
    "    df = GutEuk_out_final.query('genome == @fungi')\n",
    "    correct_length = 0\n",
    "    for index, row in df.iterrows():\n",
    "        pred = row['stage2_prediction']\n",
    "        Y = row['genome_type']\n",
    "        seq_length = row['seq_length']\n",
    "        if pred == Y:\n",
    "            correct_length += seq_length\n",
    "\n",
    "    \n",
    "    total_length = GutEuk_out_final_genome_length.query('genome == @fungi')['seq_length'].item()\n",
    "    genome_origin_guteuk.append(\"fungi\")\n",
    "    genome_name.append(fungi)\n",
    "    precentage_corrected_genome.append(correct_length/total_length)\n",
    "\n",
    "for protozoa in protozoa_genomes:\n",
    "    df = GutEuk_out_final.query('genome == @protozoa')\n",
    "    correct_length = 0\n",
    "    for index, row in df.iterrows():\n",
    "        pred = row['stage2_prediction']\n",
    "        Y = row['genome_type']\n",
    "        seq_length = row['seq_length']\n",
    "        if pred == Y:\n",
    "            correct_length += seq_length\n",
    "            \n",
    "    \n",
    "    total_length = GutEuk_out_final_genome_length.query('genome == @protozoa')['seq_length'].item()\n",
    "    genome_origin_guteuk.append(\"protozoa\")\n",
    "    genome_name.append(protozoa)\n",
    "    precentage_corrected_genome.append(correct_length/total_length)\n",
    "\n",
    "for sag in sags_genomes:\n",
    "    df = GutEuk_out_final.query('genome == @sag')\n",
    "    correct_length = 0\n",
    "    for index, row in df.iterrows():\n",
    "        pred = row['stage2_prediction']\n",
    "        Y = row['genome_type']\n",
    "        if Y == \"SAG\":\n",
    "            Y = \"protozoa\"\n",
    "        \n",
    "        seq_length = row['seq_length']\n",
    "        if pred == Y:\n",
    "            correct_length += seq_length\n",
    "\n",
    "    \n",
    "    total_length = GutEuk_out_final_genome_length.query('genome == @sag')['seq_length'].item()\n",
    "    genome_origin_guteuk.append(\"SAG\")\n",
    "    genome_name.append(sag)\n",
    "    precentage_corrected_genome.append(correct_length/total_length)\n",
    "\n",
    "for proka in prokaryotes_genomes:\n",
    "    df = GutEuk_out_final.query('genome == @proka')\n",
    "    correct_length = 0\n",
    "    for index, row in df.iterrows():\n",
    "        pred = row['stage2_prediction']\n",
    "        Y = row['genome_type']\n",
    "        seq_length = row['seq_length']\n",
    "        if pred == Y:\n",
    "            correct_length += seq_length\n",
    "\n",
    "    \n",
    "    total_length = GutEuk_out_final_genome_length.query('genome == @proka')['seq_length'].item()\n",
    "    genome_origin_guteuk.append(\"prokaryotes\")\n",
    "    genome_name.append(proka)\n",
    "    precentage_corrected_genome.append(correct_length/total_length)\n",
    "\n",
    "        \n"
   ]
  },
  {
   "cell_type": "code",
   "execution_count": 15,
   "id": "748e1fd6",
   "metadata": {},
   "outputs": [],
   "source": [
    "res = pd.DataFrame.from_dict({\"genome_origin\":genome_origin_guteuk, \"genome_name\":genome_name, \"precentage_corrected_genome\":precentage_corrected_genome})"
   ]
  },
  {
   "cell_type": "code",
   "execution_count": 16,
   "id": "2fddc9d8",
   "metadata": {},
   "outputs": [],
   "source": [
    "res.to_csv(\"/fs/ess/PAS0439/MING/cilates_fungi_classifier/stats_visualization/GutEuk_benchmark_corrected_bp_by_genome.csv\", index = None)"
   ]
  },
  {
   "cell_type": "code",
   "execution_count": 17,
   "id": "8cf90cb5",
   "metadata": {},
   "outputs": [],
   "source": [
    "tmp = GutEuk_out_final[GutEuk_out_final.genome_type == \"SAG\"].index\n",
    "GutEuk_out_final[\"genome_type_three_cat\"] = GutEuk_out_final.genome_type\n",
    "GutEuk_out_final.loc[tmp, \"genome_type_three_cat\"] = \"protozoa\""
   ]
  },
  {
   "cell_type": "code",
   "execution_count": 18,
   "id": "3c957725",
   "metadata": {},
   "outputs": [],
   "source": [
    "for index, row in GutEuk_out_final.iterrows():\n",
    "    pred = row['stage2_prediction']\n",
    "    Y = row['genome_type_three_cat']\n",
    "    if pred == Y:\n",
    "        GutEuk_out_final.loc[index, \"accuracy\"] = 1\n",
    "    else:\n",
    "        GutEuk_out_final.loc[index, \"accuracy\"] = 0"
   ]
  },
  {
   "cell_type": "code",
   "execution_count": 19,
   "id": "1cb7842f",
   "metadata": {},
   "outputs": [],
   "source": [
    "GutEuk_out_final_filtered = GutEuk_out_final.copy() "
   ]
  },
  {
   "cell_type": "code",
   "execution_count": 20,
   "id": "40854cdf",
   "metadata": {},
   "outputs": [],
   "source": [
    "GutEuk_out_final_filtered = GutEuk_out_final_filtered[~GutEuk_out_final_filtered.genome.isin([\"Smimuc2_AssemblyScaffolds_Repeatmasked.fasta\", \"Vavcu1_AssemblyScaffolds_Repeatmasked.fasta\"])]"
   ]
  },
  {
   "cell_type": "code",
   "execution_count": 21,
   "id": "9106e659",
   "metadata": {},
   "outputs": [],
   "source": [
    "def ceiling(x:int):\n",
    "    x = (x // 5000)*5000\n",
    "    return x\n",
    "    \n"
   ]
  },
  {
   "cell_type": "code",
   "execution_count": 22,
   "id": "97d052b0",
   "metadata": {},
   "outputs": [],
   "source": [
    "GutEuk_out_final_filtered.loc[:,\"sequence_length_range\"] = GutEuk_out_final_filtered.seq_length.apply(ceiling)"
   ]
  },
  {
   "cell_type": "code",
   "execution_count": 23,
   "id": "eaecd68e",
   "metadata": {},
   "outputs": [],
   "source": [
    "total_seq_by_len_category = GutEuk_out_final_filtered.groupby([\"sequence_length_range\", \"genome_type\"]).sequence.count().reset_index()"
   ]
  },
  {
   "cell_type": "code",
   "execution_count": 24,
   "id": "e4c13b9e",
   "metadata": {},
   "outputs": [],
   "source": [
    "total_seq_by_len_category.rename(columns = {\"genome_type\": \"genome_category\", \"sequence\": \"total_sequence\"}, inplace = True)"
   ]
  },
  {
   "cell_type": "code",
   "execution_count": 25,
   "id": "9f14345a",
   "metadata": {},
   "outputs": [],
   "source": [
    "corrected_seq_by_len_category = GutEuk_out_final_filtered.groupby([\"sequence_length_range\", \"genome_type\"]).accuracy.sum().reset_index()"
   ]
  },
  {
   "cell_type": "code",
   "execution_count": 26,
   "id": "bec85bde",
   "metadata": {},
   "outputs": [],
   "source": [
    "corrected_seq_by_len_category.rename(columns = {\"genome_type\": \"genome_category\", \"accuracy\": \"corrected_sequence\"}, inplace = True)"
   ]
  },
  {
   "cell_type": "code",
   "execution_count": 27,
   "id": "3ac70018",
   "metadata": {},
   "outputs": [],
   "source": [
    "accuracy_by_len_category = pd.merge(corrected_seq_by_len_category, total_seq_by_len_category, on = [\"sequence_length_range\", \"genome_category\"])"
   ]
  },
  {
   "cell_type": "code",
   "execution_count": 28,
   "id": "114d25cc",
   "metadata": {},
   "outputs": [],
   "source": [
    "accuracy_by_len_category.loc[ :, \"accuracy\"] = accuracy_by_len_category.corrected_sequence / accuracy_by_len_category.total_sequence"
   ]
  },
  {
   "cell_type": "code",
   "execution_count": 29,
   "id": "d23ec91c",
   "metadata": {},
   "outputs": [],
   "source": [
    "accuracy_by_len_category_3classes = accuracy_by_len_category.copy()\n",
    "accuracy_by_len_category_3classes.genome_category = accuracy_by_len_category.genome_category.replace(\"SAG\", \"protozoa\")\n",
    "accuracy_by_len_category_3classes = accuracy_by_len_category_3classes.groupby([\"sequence_length_range\", \"genome_category\"]).sum([\"total_sequence\", \"accuracy\"]).reset_index()\n",
    "accuracy_by_len_category_3classes.accuracy = list(accuracy_by_len_category_3classes.corrected_sequence / accuracy_by_len_category_3classes.total_sequence)\n"
   ]
  },
  {
   "cell_type": "code",
   "execution_count": 30,
   "id": "3d66f2b8",
   "metadata": {},
   "outputs": [],
   "source": [
    "accuracy_by_len_category_3classes.to_csv(\"/fs/ess/PAS0439/MING/cilates_fungi_classifier/stats_visualization/GutEuk_benchmark_accuracy_by_contig_length.csv\", index = None)"
   ]
  },
  {
   "cell_type": "code",
   "execution_count": 31,
   "id": "1416337c",
   "metadata": {},
   "outputs": [],
   "source": [
    "GutEuk_out_final_precision_recall = GutEuk_out_final_filtered.copy()\n",
    "GutEuk_out_final_precision_recall.loc[:,\"sequence_length_range\"] = GutEuk_out_final_precision_recall.seq_length.apply(ceiling)"
   ]
  },
  {
   "cell_type": "code",
   "execution_count": 32,
   "id": "54b3bd5d",
   "metadata": {},
   "outputs": [],
   "source": [
    "# sequence_length_range: 0 (3000 < x < 5000)\n",
    "precision = []\n",
    "recall = []\n",
    "sequence_length = []\n",
    "category = []\n",
    "for cate in [\"prokaryotes\", \"fungi\", \"protozoa\"]:\n",
    "    for seq_len in [0, 5000, 10000, 15000, 20000, 25000, 30000, 35000, 40000, 45000, 50000]:\n",
    "        tp =  len(GutEuk_out_final_precision_recall.query('genome_type_three_cat == @cate').query(\"sequence_length_range == @seq_len\").query('stage2_prediction == @cate'))\n",
    "        fp = len(GutEuk_out_final_precision_recall.query('genome_type_three_cat != @cate').query(\"sequence_length_range == @seq_len\").query('stage2_prediction == @cate'))\n",
    "        fn = len(GutEuk_out_final_precision_recall.query('genome_type_three_cat == @cate').query(\"sequence_length_range == @seq_len\").query('stage2_prediction != @cate'))\n",
    "        if fn + fp + tp == 0:\n",
    "            continue\n",
    "        else:\n",
    "            preci = tp/ (tp + fp)\n",
    "            recal = tp/ (tp + fn)\n",
    "            category.append(cate)\n",
    "            sequence_length.append(seq_len)\n",
    "            precision.append(preci)\n",
    "            recall.append(recal)\n",
    "        \n",
    "\n",
    "for seq_len in [0, 5000, 10000, 15000, 20000, 25000, 30000, 35000, 40000, 45000, 50000]:\n",
    "        tp =  len(GutEuk_out_final_precision_recall.query('genome_type_three_cat == \"protozoa\"|genome_type_three_cat ==\"fungi\"').query(\"sequence_length_range == @seq_len\").query('stage1_prediction != \"prokaryotes\"'))\n",
    "        fp = len(GutEuk_out_final_precision_recall.query('genome_type_three_cat == \"prokaryotes\"').query(\"sequence_length_range == @seq_len\").query('stage1_prediction != \"prokaryotes\"'))\n",
    "        fn = len(GutEuk_out_final_precision_recall.query('genome_type_three_cat == \"protozoa\"|genome_type_three_cat ==\"fungi\"').query(\"sequence_length_range == @seq_len\").query('stage1_prediction == \"prokaryotes\"'))\n",
    "        if fn + fp + tp == 0:\n",
    "            continue\n",
    "        else:\n",
    "            preci = tp/ (tp + fp)\n",
    "            recal = tp/ (tp + fn)\n",
    "            category.append(\"eukaryotes\")\n",
    "            sequence_length.append(seq_len)\n",
    "            precision.append(preci)\n",
    "            recall.append(recal)\n",
    "            \n",
    "preci_recall_by_len50 = pd.DataFrame.from_dict({\"category\":category, \"sequence_length\":sequence_length, \"precision\":precision, \"recall\":recall, \"threshold\": 0.5})        "
   ]
  },
  {
   "cell_type": "code",
   "execution_count": 33,
   "id": "6686d88e",
   "metadata": {},
   "outputs": [],
   "source": [
    "GutEuk_out_final_precision_recall_stage2_60 = GutEuk_out_final_precision_recall.copy()\n",
    "filtered = GutEuk_out_final_precision_recall_stage2_60.query('stage1_prediction != \"prokaryotes\"').query('stage2_confidence < 0.60').index\n",
    "GutEuk_out_final_precision_recall_stage2_60.loc[filtered, \"stage2_prediction\"] = \"undetermined\"\n",
    "\n",
    "# sequence_length_range: 0 (3000 < x < 5000)\n",
    "precision60 = []\n",
    "recall60 = []\n",
    "sequence_length60 = []\n",
    "category60 = []\n",
    "for cate in [\"prokaryotes\", \"fungi\", \"protozoa\"]:\n",
    "    for seq_len in [0, 5000, 10000, 15000, 20000, 25000, 30000, 35000, 40000, 45000, 50000]:\n",
    "        tp =  len(GutEuk_out_final_precision_recall_stage2_60.query('genome_type_three_cat == @cate').query(\"sequence_length_range == @seq_len\").query('stage2_prediction == @cate'))\n",
    "        fp = len(GutEuk_out_final_precision_recall_stage2_60.query('genome_type_three_cat != @cate').query(\"sequence_length_range == @seq_len\").query('stage2_prediction == @cate'))\n",
    "        fn = len(GutEuk_out_final_precision_recall_stage2_60.query('genome_type_three_cat == @cate').query(\"sequence_length_range == @seq_len\").query('stage2_prediction != @cate'))\n",
    "        if fn + fp + tp == 0:\n",
    "            continue\n",
    "        else:\n",
    "            preci = tp/ (tp + fp)\n",
    "            recal = tp/ (tp + fn)\n",
    "            category60.append(cate)\n",
    "            sequence_length60.append(seq_len)\n",
    "            precision60.append(preci)\n",
    "            recall60.append(recal)\n",
    "        \n",
    "\n",
    "for seq_len in [0, 5000, 10000, 15000, 20000, 25000, 30000, 35000, 40000, 45000, 50000]:\n",
    "        tp =  len(GutEuk_out_final_precision_recall_stage2_60.query('genome_type_three_cat == \"protozoa\"|genome_type_three_cat ==\"fungi\"').query(\"sequence_length_range == @seq_len\").query('stage1_prediction != \"prokaryotes\"'))\n",
    "        fp = len(GutEuk_out_final_precision_recall_stage2_60.query('genome_type_three_cat == \"prokaryotes\"').query(\"sequence_length_range == @seq_len\").query('stage1_prediction != \"prokaryotes\"'))\n",
    "        fn = len(GutEuk_out_final_precision_recall_stage2_60.query('genome_type_three_cat == \"protozoa\"|genome_type_three_cat ==\"fungi\"').query(\"sequence_length_range == @seq_len\").query('stage1_prediction == \"prokaryotes\"'))\n",
    "        if fn + fp + tp == 0:\n",
    "            continue\n",
    "        else:\n",
    "            preci = tp/ (tp + fp)\n",
    "            recal = tp/ (tp + fn)\n",
    "            category60.append(\"eukaryotes\")\n",
    "            sequence_length60.append(seq_len)\n",
    "            precision60.append(preci)\n",
    "            recall60.append(recal)\n",
    "\n",
    "preci_recall_by_len60 = pd.DataFrame.from_dict({\"category\":category60, \"sequence_length\":sequence_length60, \"precision\":precision60, \"recall\":recall60, \"threshold\": 0.6})            "
   ]
  },
  {
   "cell_type": "code",
   "execution_count": 34,
   "id": "2321b240",
   "metadata": {},
   "outputs": [],
   "source": [
    "GutEuk_out_final_precision_recall_stage2_70 = GutEuk_out_final_precision_recall.copy()\n",
    "filtered = GutEuk_out_final_precision_recall_stage2_70.query('stage1_prediction != \"prokaryotes\"').query('stage2_confidence < 0.70').index\n",
    "GutEuk_out_final_precision_recall_stage2_70.loc[filtered, \"stage2_prediction\"] = \"undetermined\"\n",
    "\n",
    "# sequence_length_range: 0 (3000 < x < 5000)\n",
    "precision70 = []\n",
    "recall70 = []\n",
    "sequence_length70 = []\n",
    "category70 = []\n",
    "for cate in [\"prokaryotes\", \"fungi\", \"protozoa\"]:\n",
    "    for seq_len in [0, 5000, 10000, 15000, 20000, 25000, 30000, 35000, 40000, 45000, 50000]:\n",
    "        tp =  len(GutEuk_out_final_precision_recall_stage2_70.query('genome_type_three_cat == @cate').query(\"sequence_length_range == @seq_len\").query('stage2_prediction == @cate'))\n",
    "        fp = len(GutEuk_out_final_precision_recall_stage2_70.query('genome_type_three_cat != @cate').query(\"sequence_length_range == @seq_len\").query('stage2_prediction == @cate'))\n",
    "        fn = len(GutEuk_out_final_precision_recall_stage2_70.query('genome_type_three_cat == @cate').query(\"sequence_length_range == @seq_len\").query('stage2_prediction != @cate'))\n",
    "        if fn + fp + tp == 0:\n",
    "            continue\n",
    "        else:\n",
    "            preci = tp/ (tp + fp)\n",
    "            recal = tp/ (tp + fn)\n",
    "            category70.append(cate)\n",
    "            sequence_length70.append(seq_len)\n",
    "            precision70.append(preci)\n",
    "            recall70.append(recal)\n",
    "        \n",
    "\n",
    "for seq_len in [0, 5000, 10000, 15000, 20000, 25000, 30000, 35000, 40000, 45000, 50000]:\n",
    "        tp =  len(GutEuk_out_final_precision_recall_stage2_70.query('genome_type_three_cat == \"protozoa\"|genome_type_three_cat ==\"fungi\"').query(\"sequence_length_range == @seq_len\").query('stage1_prediction != \"prokaryotes\"'))\n",
    "        fp = len(GutEuk_out_final_precision_recall_stage2_70.query('genome_type_three_cat == \"prokaryotes\"').query(\"sequence_length_range == @seq_len\").query('stage1_prediction != \"prokaryotes\"'))\n",
    "        fn = len(GutEuk_out_final_precision_recall_stage2_70.query('genome_type_three_cat == \"protozoa\"|genome_type_three_cat ==\"fungi\"').query(\"sequence_length_range == @seq_len\").query('stage1_prediction == \"prokaryotes\"'))\n",
    "        if fn + fp + tp == 0:\n",
    "            continue\n",
    "        else:\n",
    "            preci = tp/ (tp + fp)\n",
    "            recal = tp/ (tp + fn)\n",
    "            category70.append(\"eukaryotes\")\n",
    "            sequence_length70.append(seq_len)\n",
    "            precision70.append(preci)\n",
    "            recall70.append(recal)\n",
    "\n",
    "preci_recall_by_len70 = pd.DataFrame.from_dict({\"category\":category70, \"sequence_length\":sequence_length70, \"precision\":precision70, \"recall\":recall70 , \"threshold\": 0.7})            "
   ]
  },
  {
   "cell_type": "code",
   "execution_count": 35,
   "id": "d49eb570",
   "metadata": {},
   "outputs": [],
   "source": [
    "GutEuk_out_final_precision_recall_stage2_80 = GutEuk_out_final_precision_recall.copy()\n",
    "filtered = GutEuk_out_final_precision_recall_stage2_80.query('stage1_prediction != \"prokaryotes\"').query('stage2_confidence < 0.80').index\n",
    "GutEuk_out_final_precision_recall_stage2_80.loc[filtered, \"stage2_prediction\"] = \"undetermined\"\n",
    "\n",
    "# sequence_length_range: 0 (3000 < x < 5000)\n",
    "precision80 = []\n",
    "recall80 = []\n",
    "sequence_length80 = []\n",
    "category80 = []\n",
    "for cate in [\"prokaryotes\", \"fungi\", \"protozoa\"]:\n",
    "    for seq_len in [0, 5000, 10000, 15000, 20000, 25000, 30000, 35000, 40000, 45000, 50000]:\n",
    "        tp =  len(GutEuk_out_final_precision_recall_stage2_80.query('genome_type_three_cat == @cate').query(\"sequence_length_range == @seq_len\").query('stage2_prediction == @cate'))\n",
    "        fp = len(GutEuk_out_final_precision_recall_stage2_80.query('genome_type_three_cat != @cate').query(\"sequence_length_range == @seq_len\").query('stage2_prediction == @cate'))\n",
    "        fn = len(GutEuk_out_final_precision_recall_stage2_80.query('genome_type_three_cat == @cate').query(\"sequence_length_range == @seq_len\").query('stage2_prediction != @cate'))\n",
    "        if fn + fp + tp == 0:\n",
    "            continue\n",
    "        else:\n",
    "            preci = tp/ (tp + fp)\n",
    "            recal = tp/ (tp + fn)\n",
    "            category80.append(cate)\n",
    "            sequence_length80.append(seq_len)\n",
    "            precision80.append(preci)\n",
    "            recall80.append(recal)\n",
    "        \n",
    "\n",
    "for seq_len in [0, 5000, 10000, 15000, 20000, 25000, 30000, 35000, 40000, 45000, 50000]:\n",
    "        tp =  len(GutEuk_out_final_precision_recall_stage2_80.query('genome_type_three_cat == \"protozoa\"|genome_type_three_cat ==\"fungi\"').query(\"sequence_length_range == @seq_len\").query('stage1_prediction != \"prokaryotes\"'))\n",
    "        fp = len(GutEuk_out_final_precision_recall_stage2_80.query('genome_type_three_cat == \"prokaryotes\"').query(\"sequence_length_range == @seq_len\").query('stage1_prediction != \"prokaryotes\"'))\n",
    "        fn = len(GutEuk_out_final_precision_recall_stage2_80.query('genome_type_three_cat == \"protozoa\"|genome_type_three_cat ==\"fungi\"').query(\"sequence_length_range == @seq_len\").query('stage1_prediction == \"prokaryotes\"'))\n",
    "        if fn + fp + tp == 0:\n",
    "            continue\n",
    "        else:\n",
    "            preci = tp/ (tp + fp)\n",
    "            recal = tp/ (tp + fn)\n",
    "            category80.append(\"eukaryotes\")\n",
    "            sequence_length80.append(seq_len)\n",
    "            precision80.append(preci)\n",
    "            recall80.append(recal)\n",
    "\n",
    "preci_recall_by_len80 = pd.DataFrame.from_dict({\"category\":category80, \"sequence_length\":sequence_length80, \"precision\":precision80, \"recall\":recall80, \"threshold\": 0.8})            "
   ]
  },
  {
   "cell_type": "code",
   "execution_count": 36,
   "id": "adc91ab4",
   "metadata": {},
   "outputs": [],
   "source": [
    "GutEuk_out_final_precision_recall_stage2_90 = GutEuk_out_final_precision_recall.copy()\n",
    "filtered = GutEuk_out_final_precision_recall_stage2_90.query('stage1_prediction != \"prokaryotes\"').query('stage2_confidence < 0.90').index\n",
    "GutEuk_out_final_precision_recall_stage2_90.loc[filtered, \"stage2_prediction\"] = \"undetermined\"\n",
    "\n",
    "# sequence_length_range: 0 (3000 < x < 5000)\n",
    "precision90 = []\n",
    "recall90 = []\n",
    "sequence_length90 = []\n",
    "category90 = []\n",
    "for cate in [\"prokaryotes\", \"fungi\", \"protozoa\"]:\n",
    "    for seq_len in [0, 5000, 10000, 15000, 20000, 25000, 30000, 35000, 40000, 45000, 50000]:\n",
    "        tp =  len(GutEuk_out_final_precision_recall_stage2_90.query('genome_type_three_cat == @cate').query(\"sequence_length_range == @seq_len\").query('stage2_prediction == @cate'))\n",
    "        fp = len(GutEuk_out_final_precision_recall_stage2_90.query('genome_type_three_cat != @cate').query(\"sequence_length_range == @seq_len\").query('stage2_prediction == @cate'))\n",
    "        fn = len(GutEuk_out_final_precision_recall_stage2_90.query('genome_type_three_cat == @cate').query(\"sequence_length_range == @seq_len\").query('stage2_prediction != @cate'))\n",
    "        if fn + fp + tp == 0:\n",
    "            continue\n",
    "        else:\n",
    "            preci = tp/ (tp + fp)\n",
    "            recal = tp/ (tp + fn)\n",
    "            category90.append(cate)\n",
    "            sequence_length90.append(seq_len)\n",
    "            precision90.append(preci)\n",
    "            recall90.append(recal)\n",
    "        \n",
    "\n",
    "for seq_len in [0, 5000, 10000, 15000, 20000, 25000, 30000, 35000, 40000, 45000, 50000]:\n",
    "        tp =  len(GutEuk_out_final_precision_recall_stage2_90.query('genome_type_three_cat == \"protozoa\"|genome_type_three_cat ==\"fungi\"').query(\"sequence_length_range == @seq_len\").query('stage1_prediction != \"prokaryotes\"'))\n",
    "        fp = len(GutEuk_out_final_precision_recall_stage2_90.query('genome_type_three_cat == \"prokaryotes\"').query(\"sequence_length_range == @seq_len\").query('stage1_prediction != \"prokaryotes\"'))\n",
    "        fn = len(GutEuk_out_final_precision_recall_stage2_90.query('genome_type_three_cat == \"protozoa\"|genome_type_three_cat ==\"fungi\"').query(\"sequence_length_range == @seq_len\").query('stage1_prediction == \"prokaryotes\"'))\n",
    "        if fn + fp + tp == 0:\n",
    "            continue\n",
    "        else:\n",
    "            preci = tp/ (tp + fp)\n",
    "            recal = tp/ (tp + fn)\n",
    "            category90.append(\"eukaryotes\")\n",
    "            sequence_length90.append(seq_len)\n",
    "            precision90.append(preci)\n",
    "            recall90.append(recal)\n",
    "\n",
    "preci_recall_by_len90 = pd.DataFrame.from_dict({\"category\":category90, \"sequence_length\":sequence_length90, \"precision\":precision90, \"recall\":recall90, \"threshold\": 0.9})            "
   ]
  },
  {
   "cell_type": "code",
   "execution_count": 37,
   "id": "cddd3908",
   "metadata": {},
   "outputs": [],
   "source": [
    "GutEuk_out_final_precision_recall_stage2_100 = GutEuk_out_final_precision_recall.copy()\n",
    "filtered = GutEuk_out_final_precision_recall_stage2_100.query('stage1_prediction != \"prokaryotes\"').query('stage2_confidence < 1').index\n",
    "GutEuk_out_final_precision_recall_stage2_100.loc[filtered, \"stage2_prediction\"] = \"undetermined\"\n",
    "\n",
    "# sequence_length_range: 0 (3000 < x < 5000)\n",
    "precision100 = []\n",
    "recall100 = []\n",
    "sequence_length100 = []\n",
    "category100 = []\n",
    "for cate in [\"prokaryotes\", \"fungi\", \"protozoa\"]:\n",
    "    for seq_len in [0, 5000, 10000, 15000, 20000, 25000, 30000, 35000, 40000, 45000, 50000]:\n",
    "        tp =  len(GutEuk_out_final_precision_recall_stage2_100.query('genome_type_three_cat == @cate').query(\"sequence_length_range == @seq_len\").query('stage2_prediction == @cate'))\n",
    "        fp = len(GutEuk_out_final_precision_recall_stage2_100.query('genome_type_three_cat != @cate').query(\"sequence_length_range == @seq_len\").query('stage2_prediction == @cate'))\n",
    "        fn = len(GutEuk_out_final_precision_recall_stage2_100.query('genome_type_three_cat == @cate').query(\"sequence_length_range == @seq_len\").query('stage2_prediction != @cate'))\n",
    "        if fn + fp + tp == 0:\n",
    "            continue\n",
    "        else:\n",
    "            preci = tp/ (tp + fp)\n",
    "            recal = tp/ (tp + fn)\n",
    "            category100.append(cate)\n",
    "            sequence_length100.append(seq_len)\n",
    "            precision100.append(preci)\n",
    "            recall100.append(recal)\n",
    "        \n",
    "\n",
    "for seq_len in [0, 5000, 10000, 15000, 20000, 25000, 30000, 35000, 40000, 45000, 50000]:\n",
    "        tp =  len(GutEuk_out_final_precision_recall_stage2_100.query('genome_type_three_cat == \"protozoa\"|genome_type_three_cat ==\"fungi\"').query(\"sequence_length_range == @seq_len\").query('stage1_prediction != \"prokaryotes\"'))\n",
    "        fp = len(GutEuk_out_final_precision_recall_stage2_100.query('genome_type_three_cat == \"prokaryotes\"').query(\"sequence_length_range == @seq_len\").query('stage1_prediction != \"prokaryotes\"'))\n",
    "        fn = len(GutEuk_out_final_precision_recall_stage2_100.query('genome_type_three_cat == \"protozoa\"|genome_type_three_cat ==\"fungi\"').query(\"sequence_length_range == @seq_len\").query('stage1_prediction == \"prokaryotes\"'))\n",
    "        if fn + fp + tp == 0:\n",
    "            continue\n",
    "        else:\n",
    "            preci = tp/ (tp + fp)\n",
    "            recal = tp/ (tp + fn)\n",
    "            category100.append(\"eukaryotes\")\n",
    "            sequence_length100.append(seq_len)\n",
    "            precision100.append(preci)\n",
    "            recall100.append(recal)\n",
    "\n",
    "preci_recall_by_len100 = pd.DataFrame.from_dict({\"category\":category100, \"sequence_length\":sequence_length100, \"precision\":precision100, \"recall\":recall100, \"threshold\": 1})            "
   ]
  },
  {
   "cell_type": "code",
   "execution_count": 38,
   "id": "d14ffcce",
   "metadata": {},
   "outputs": [],
   "source": [
    "preci_recall_by_len = pd.concat([preci_recall_by_len50, preci_recall_by_len60, preci_recall_by_len70, preci_recall_by_len80, preci_recall_by_len90, preci_recall_by_len100])"
   ]
  },
  {
   "cell_type": "code",
   "execution_count": 39,
   "id": "13645cae",
   "metadata": {},
   "outputs": [],
   "source": [
    "preci_recall_by_len.to_csv(\"/fs/ess/PAS0439/MING/cilates_fungi_classifier/stats_visualization/GutEuk_benchmark_preci_recall_by_len.csv\", index = None)"
   ]
  },
  {
   "cell_type": "code",
   "execution_count": null,
   "id": "ab256932",
   "metadata": {},
   "outputs": [],
   "source": []
  },
  {
   "cell_type": "code",
   "execution_count": 44,
   "id": "faa002f6",
   "metadata": {},
   "outputs": [
    {
     "data": {
      "text/html": [
       "<div>\n",
       "<style scoped>\n",
       "    .dataframe tbody tr th:only-of-type {\n",
       "        vertical-align: middle;\n",
       "    }\n",
       "\n",
       "    .dataframe tbody tr th {\n",
       "        vertical-align: top;\n",
       "    }\n",
       "\n",
       "    .dataframe thead th {\n",
       "        text-align: right;\n",
       "    }\n",
       "</style>\n",
       "<table border=\"1\" class=\"dataframe\">\n",
       "  <thead>\n",
       "    <tr style=\"text-align: right;\">\n",
       "      <th></th>\n",
       "      <th>stage1_prediction</th>\n",
       "      <th>stage2_prediction</th>\n",
       "      <th>stage1_confidence</th>\n",
       "      <th>stage2_confidence</th>\n",
       "      <th>sequence</th>\n",
       "      <th>genome</th>\n",
       "      <th>genome_type</th>\n",
       "      <th>seq_length</th>\n",
       "      <th>genome_type_three_cat</th>\n",
       "      <th>accuracy</th>\n",
       "      <th>sequence_length_range</th>\n",
       "    </tr>\n",
       "  </thead>\n",
       "  <tbody>\n",
       "  </tbody>\n",
       "</table>\n",
       "</div>"
      ],
      "text/plain": [
       "Empty DataFrame\n",
       "Columns: [stage1_prediction, stage2_prediction, stage1_confidence, stage2_confidence, sequence, genome, genome_type, seq_length, genome_type_three_cat, accuracy, sequence_length_range]\n",
       "Index: []"
      ]
     },
     "execution_count": 44,
     "metadata": {},
     "output_type": "execute_result"
    }
   ],
   "source": [
    "GutEuk_out_final_precision_recall.query('seq_length < 5000')"
   ]
  },
  {
   "cell_type": "code",
   "execution_count": null,
   "id": "dea42aa0",
   "metadata": {},
   "outputs": [],
   "source": []
  }
 ],
 "metadata": {
  "kernelspec": {
   "display_name": "MYENV [/fs/ess/PAS0439/MING/conda/MYENV]",
   "language": "python",
   "name": "conda_myenv"
  },
  "language_info": {
   "codemirror_mode": {
    "name": "ipython",
    "version": 3
   },
   "file_extension": ".py",
   "mimetype": "text/x-python",
   "name": "python",
   "nbconvert_exporter": "python",
   "pygments_lexer": "ipython3",
   "version": "3.10.9"
  }
 },
 "nbformat": 4,
 "nbformat_minor": 5
}
