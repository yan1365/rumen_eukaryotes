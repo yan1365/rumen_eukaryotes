{
 "cells": [
  {
   "cell_type": "markdown",
   "id": "0511abab",
   "metadata": {},
   "source": [
    "### Filter genomes used for training Tiara and EukRep in the testing set"
   ]
  },
  {
   "cell_type": "code",
   "execution_count": 1,
   "id": "7f2d8d98",
   "metadata": {},
   "outputs": [],
   "source": [
    "import os\n",
    "import pandas as pd\n",
    "import re"
   ]
  },
  {
   "cell_type": "code",
   "execution_count": 2,
   "id": "eca0f046",
   "metadata": {},
   "outputs": [],
   "source": [
    "os.chdir(\"/fs/ess/PAS0439/MING/cilates_fungi_classifier/\")"
   ]
  },
  {
   "cell_type": "code",
   "execution_count": 3,
   "id": "e92a6b08",
   "metadata": {},
   "outputs": [],
   "source": [
    "genomes_in_training = pd.read_csv(\"tiara_eukrep_training.csv\")"
   ]
  },
  {
   "cell_type": "code",
   "execution_count": 4,
   "id": "90525109",
   "metadata": {},
   "outputs": [],
   "source": [
    "tiara_train = genomes_in_training.query('dataset == \"Tiara\"')\n",
    "eukrep_train = genomes_in_training.query('dataset == \"EukRep\"')"
   ]
  },
  {
   "cell_type": "code",
   "execution_count": 5,
   "id": "5a9080e6",
   "metadata": {},
   "outputs": [],
   "source": [
    "testing_pro = pd.read_csv(\"dataset_proka_repre.csv\").query('dataset == \"Test\"')"
   ]
  },
  {
   "cell_type": "code",
   "execution_count": 6,
   "id": "8f35913d",
   "metadata": {},
   "outputs": [],
   "source": [
    "testing_fungi = pd.read_csv(\"dataset_fungi_repre.csv\").query('dataset == \"Test\"')"
   ]
  },
  {
   "cell_type": "code",
   "execution_count": 7,
   "id": "f307f2bd",
   "metadata": {},
   "outputs": [],
   "source": [
    "testing_protozoa = pd.read_csv(\"dataset_protozoa_repre.csv\").query('dataset == \"Test\"')"
   ]
  },
  {
   "cell_type": "code",
   "execution_count": 8,
   "id": "f1781e27",
   "metadata": {},
   "outputs": [],
   "source": [
    "tiara_euk = tiara_train[tiara_train.taxa.str.contains('Eukaryota')]"
   ]
  },
  {
   "cell_type": "code",
   "execution_count": 9,
   "id": "cf47a9f7",
   "metadata": {},
   "outputs": [],
   "source": [
    "testing_fungi_taxa = [set(f) for f in testing_fungi.taxa.str.split(\"_\")]"
   ]
  },
  {
   "cell_type": "code",
   "execution_count": 10,
   "id": "2d94a80c",
   "metadata": {},
   "outputs": [],
   "source": [
    "testing_protozoa_proka = list(testing_pro.id) +  list(testing_protozoa.id)"
   ]
  },
  {
   "cell_type": "code",
   "execution_count": 11,
   "id": "fd7d20e2",
   "metadata": {},
   "outputs": [],
   "source": [
    "filtered_proka_protozoa = []\n",
    "for index, row in tiara_train.iterrows():\n",
    "    ID = row['id']\n",
    "    accession = ID.split(\"_\")[1]\n",
    "    if \"GCF_\" + accession in testing_protozoa_proka:\n",
    "        filtered_proka_protozoa.append(\"GCF_\" + accession)\n",
    "    elif \"GCA_\" + accession in testing_protozoa_proka:\n",
    "        filtered_proka_protozoa.append(\"GCA_\" + accession)\n",
    "        \n",
    "filtered_fungi_taxa_pre = [] # for manual check\n",
    "for index, row in tiara_euk.iterrows():\n",
    "    species = row[\"name\"]\n",
    "    filtered_fungi_taxa_pre.append(set(species.split(' ')))\n",
    "    \n",
    "testing_fungi_taxa = [set(f) for f in testing_fungi.taxa.str.split(\"_\")]\n",
    "\n",
    "fungi_manual_check = []\n",
    "for f in testing_fungi_taxa:\n",
    "    for j in filtered_fungi_taxa_pre:\n",
    "        if len(f & j) > 0:\n",
    "            fungi_manual_check.append(f)\n",
    "            \n",
    "    "
   ]
  },
  {
   "cell_type": "code",
   "execution_count": 12,
   "id": "dd4538d5",
   "metadata": {},
   "outputs": [],
   "source": [
    "## genomes used in training Tiara\n",
    "filtered_fungi_index = []\n",
    "filtered_protozoa_index = []\n",
    "filtered_proka_index = []\n",
    "\n",
    "for index, row in testing_fungi.iterrows():\n",
    "    taxa = set(row['taxa'].split(\"_\"))\n",
    "    if taxa in fungi_manual_check:\n",
    "        filtered_fungi_index.append(index)\n",
    "\n",
    "for index, row in testing_protozoa.iterrows():\n",
    "    ID = row['id']\n",
    "    if ID in filtered_proka_protozoa:\n",
    "        filtered_protozoa_index.append(index)\n",
    "        \n",
    "for index, row in testing_pro.iterrows():\n",
    "    ID = row['id']\n",
    "    if ID in filtered_proka_protozoa:\n",
    "        filtered_proka_index.append(index)\n",
    "        "
   ]
  },
  {
   "cell_type": "code",
   "execution_count": 13,
   "id": "4747b0c6",
   "metadata": {},
   "outputs": [],
   "source": [
    "testing_taxa =  list(testing_protozoa.taxa.str.split(' ')) + [f.split('_') for f in list(testing_fungi.taxa)] # manually checking proka genomes, since different taxanomy were used (GTDB vs. NCBI) "
   ]
  },
  {
   "cell_type": "code",
   "execution_count": 14,
   "id": "7997e3d0",
   "metadata": {},
   "outputs": [],
   "source": [
    "eukrep_euk_genomes = [f.split(' ') for f in  list(eukrep_train.name)]"
   ]
  },
  {
   "cell_type": "code",
   "execution_count": 15,
   "id": "cd0b7700",
   "metadata": {},
   "outputs": [],
   "source": [
    "## genomes used in training EukRep\n",
    "eukrep_filtered_euk = []\n",
    "for f in testing_taxa:\n",
    "    for j in eukrep_euk_genomes:\n",
    "        if len(set(f) & set(j)) > 0:\n",
    "            eukrep_filtered_euk.append(f)"
   ]
  },
  {
   "cell_type": "code",
   "execution_count": 16,
   "id": "949f966b",
   "metadata": {},
   "outputs": [],
   "source": [
    "for index, row in testing_fungi.iterrows():\n",
    "    taxa = set(row['taxa'].split(\"_\"))\n",
    "    if taxa in eukrep_filtered_euk:\n",
    "        filtered_fungi_index.append(index)\n",
    "        \n",
    "for index, row in testing_protozoa.iterrows():\n",
    "    taxa = set(row['taxa'].split(\" \"))\n",
    "    if taxa in eukrep_filtered_euk:\n",
    "        filtered_protozoa_index.append(index)"
   ]
  },
  {
   "cell_type": "code",
   "execution_count": 17,
   "id": "c85f2d0f",
   "metadata": {},
   "outputs": [],
   "source": [
    "testing_pro_benchmark = testing_pro[~testing_pro.index.isin(filtered_proka_index)]"
   ]
  },
  {
   "cell_type": "code",
   "execution_count": 18,
   "id": "973e4bd7",
   "metadata": {},
   "outputs": [],
   "source": [
    "testing_fungi_benchmark = testing_fungi[~testing_fungi.index.isin(filtered_fungi_index)]"
   ]
  },
  {
   "cell_type": "code",
   "execution_count": 19,
   "id": "2c53f189",
   "metadata": {},
   "outputs": [],
   "source": [
    "testing_protozoa_benchmark = testing_protozoa[~testing_protozoa.index.isin(filtered_protozoa_index)]"
   ]
  },
  {
   "cell_type": "code",
   "execution_count": 20,
   "id": "4eab7706",
   "metadata": {},
   "outputs": [],
   "source": [
    "testing_pro_benchmark.to_csv(\"dataset_proka_benchmark.csv\", index = None)\n",
    "testing_fungi_benchmark.to_csv(\"dataset_fungi_benchmark.csv\", index = None)\n",
    "testing_protozoa_benchmark.to_csv(\"dataset_protozoa_benchmark.csv\", index = None)"
   ]
  }
 ],
 "metadata": {
  "kernelspec": {
   "display_name": "MYENV [/fs/ess/PAS0439/MING/conda/MYENV]",
   "language": "python",
   "name": "conda_myenv"
  },
  "language_info": {
   "codemirror_mode": {
    "name": "ipython",
    "version": 3
   },
   "file_extension": ".py",
   "mimetype": "text/x-python",
   "name": "python",
   "nbconvert_exporter": "python",
   "pygments_lexer": "ipython3",
   "version": "3.10.9"
  }
 },
 "nbformat": 4,
 "nbformat_minor": 5
}
