{
 "cells": [
  {
   "cell_type": "code",
   "execution_count": 1,
   "id": "00df8b47",
   "metadata": {},
   "outputs": [],
   "source": [
    "import os\n",
    "import pandas as pd\n",
    "from Bio import SeqIO"
   ]
  },
  {
   "cell_type": "code",
   "execution_count": 2,
   "id": "6e1aa2b2",
   "metadata": {},
   "outputs": [],
   "source": [
    "os.chdir(\"/fs/scratch/PAS0439/Ming/GutEuk_benchmark\")"
   ]
  },
  {
   "cell_type": "code",
   "execution_count": 3,
   "id": "f8b54eea",
   "metadata": {},
   "outputs": [],
   "source": [
    "seqorigin = pd.read_csv(\"/fs/ess/PAS0439/MING/cilates_fungi_classifier/testset_seq_origin_chopped.csv\")"
   ]
  },
  {
   "cell_type": "code",
   "execution_count": 4,
   "id": "317854db",
   "metadata": {},
   "outputs": [
    {
     "name": "stderr",
     "output_type": "stream",
     "text": [
      "/tmp/slurmtmp.25904731/ipykernel_48016/748316828.py:1: DtypeWarning: Columns (2) have mixed types. Specify dtype option on import or set low_memory=False.\n",
      "  tiara_proka = pd.read_csv(\"proka_tiara.txt\", sep = \"\\t\")\n",
      "/tmp/slurmtmp.25904731/ipykernel_48016/748316828.py:2: DtypeWarning: Columns (2) have mixed types. Specify dtype option on import or set low_memory=False.\n",
      "  tiara_fungi = pd.read_csv(\"fungi_tiara.txt\", sep = \"\\t\")\n"
     ]
    }
   ],
   "source": [
    "tiara_proka = pd.read_csv(\"proka_tiara.txt\", sep = \"\\t\")\n",
    "tiara_fungi = pd.read_csv(\"fungi_tiara.txt\", sep = \"\\t\")\n",
    "tiara_protozoa = pd.read_csv(\"protozoa_tiara.txt\", sep = \"\\t\")\n",
    "tiara_sags = pd.read_csv(\"sags_tiara.txt\", sep = \"\\t\")"
   ]
  },
  {
   "cell_type": "code",
   "execution_count": 5,
   "id": "064b209d",
   "metadata": {},
   "outputs": [],
   "source": [
    "tiara_fungi[\"sequence_id\"] = [f[0] for f in tiara_fungi.sequence_id.str.split(\" \")]\n",
    "tiara_fungi[\"category\"] = \"fungi\"\n",
    "tiara_proka[\"sequence_id\"] = [f[0] for f in tiara_proka.sequence_id.str.split(\" \")]\n",
    "tiara_proka[\"category\"] = \"prokaryotes\"\n",
    "tiara_protozoa[\"sequence_id\"] = [f[0] for f in tiara_protozoa.sequence_id.str.split(\" \")]\n",
    "tiara_protozoa[\"category\"] = \"protozoa\"\n",
    "tiara_sags[\"sequence_id\"] = [f[0] for f in tiara_sags.sequence_id.str.split(\" \")]\n",
    "tiara_sags[\"category\"] = \"protozoa\""
   ]
  },
  {
   "cell_type": "code",
   "execution_count": 6,
   "id": "d92723f1",
   "metadata": {},
   "outputs": [],
   "source": [
    "tiara = pd.concat([tiara_fungi, tiara_proka, tiara_protozoa, tiara_sags])"
   ]
  },
  {
   "cell_type": "code",
   "execution_count": 7,
   "id": "e72918da",
   "metadata": {},
   "outputs": [],
   "source": [
    "tiara.rename(columns = {\"class_fst_stage\":\"prediction\"}, inplace = True)\n",
    "tiara.drop(\"class_snd_stage\", axis = 1, inplace = True)"
   ]
  },
  {
   "cell_type": "code",
   "execution_count": 8,
   "id": "5e83915d",
   "metadata": {},
   "outputs": [],
   "source": [
    "def new_cate(x):\n",
    "    if x in ['archaea', 'bacteria', 'prokarya']:\n",
    "        x = \"prokaryotes\"\n",
    "    elif x == \"eukarya\":\n",
    "        x = \"eukaryotes\"\n",
    "    else:\n",
    "        x = \"undetermined\"\n",
    "    return x\n",
    "        \n",
    "tiara.prediction = tiara.prediction.apply(new_cate)"
   ]
  },
  {
   "cell_type": "code",
   "execution_count": 9,
   "id": "3f3f9637",
   "metadata": {},
   "outputs": [],
   "source": [
    "prediction = []\n",
    "category = []\n",
    "sequence_id = []\n",
    "records = SeqIO.parse(\"fungi_eukrep_euk.fa\", 'fasta')\n",
    "for record in records:\n",
    "    sequence_id.append(str(record.id))\n",
    "    category.append(\"fungi\")\n",
    "    prediction.append(\"eukaryotes\")\n",
    "    \n",
    "records = SeqIO.parse(\"fungi_eukrep_pro.fa\", 'fasta')\n",
    "for record in records:\n",
    "    sequence_id.append(str(record.id))\n",
    "    category.append(\"fungi\")\n",
    "    prediction.append(\"prokaryotes\")\n",
    "    \n",
    "\n",
    "records = SeqIO.parse(\"protozoa_eukrep_euk.fa\", 'fasta')\n",
    "for record in records:\n",
    "    sequence_id.append(str(record.id))\n",
    "    category.append(\"protozoa\")\n",
    "    prediction.append(\"eukaryotes\")\n",
    "    \n",
    "records = SeqIO.parse(\"protozoa_eukrep_pro.fa\", 'fasta')\n",
    "for record in records:\n",
    "    sequence_id.append(str(record.id))\n",
    "    category.append(\"protozoa\")\n",
    "    prediction.append(\"prokaryotes\")\n",
    "    \n",
    "\n",
    "records = SeqIO.parse(\"proka_eukrep_euk.fa\", 'fasta')\n",
    "for record in records:\n",
    "    sequence_id.append(str(record.id))\n",
    "    category.append(\"prokaryotes\")\n",
    "    prediction.append(\"eukaryotes\")\n",
    "    \n",
    "records = SeqIO.parse(\"proka_eukrep_pro.fa\", 'fasta')\n",
    "for record in records:\n",
    "    sequence_id.append(str(record.id))\n",
    "    category.append(\"prokaryotes\")\n",
    "    prediction.append(\"prokaryotes\")\n",
    "    \n",
    "\n",
    "records = SeqIO.parse(\"sags_eukrep_euk.fa\", 'fasta')\n",
    "for record in records:\n",
    "    sequence_id.append(str(record.id))\n",
    "    category.append(\"protozoa\")\n",
    "    prediction.append(\"eukaryotes\")\n",
    "    \n",
    "records = SeqIO.parse(\"sags_eukrep_pro.fa\", 'fasta')\n",
    "for record in records:\n",
    "    sequence_id.append(str(record.id))\n",
    "    category.append(\"protozoa\")\n",
    "    prediction.append(\"prokaryotes\")"
   ]
  },
  {
   "cell_type": "code",
   "execution_count": 10,
   "id": "2c04631f",
   "metadata": {},
   "outputs": [],
   "source": [
    "eukrep = pd.DataFrame.from_dict({\"category\":category, \"prediction\":prediction, \"sequence_id\": sequence_id  })"
   ]
  },
  {
   "cell_type": "code",
   "execution_count": 11,
   "id": "973a1dd5",
   "metadata": {},
   "outputs": [],
   "source": [
    "eukrep.to_csv(\"/fs/ess/PAS0439/MING/cilates_fungi_classifier/stats_visualization/eukrep_testset_chopped.csv\", index = None)"
   ]
  },
  {
   "cell_type": "code",
   "execution_count": 12,
   "id": "6fe982eb",
   "metadata": {},
   "outputs": [],
   "source": [
    "tiara.to_csv(\"/fs/ess/PAS0439/MING/cilates_fungi_classifier/stats_visualization/tiara_testset_chopped.csv\", index = None)"
   ]
  },
  {
   "cell_type": "code",
   "execution_count": 13,
   "id": "0656a620",
   "metadata": {},
   "outputs": [],
   "source": [
    "eukrep.rename(columns = {\"prediction\":\"eukrep\"}, inplace = True)"
   ]
  },
  {
   "cell_type": "code",
   "execution_count": 14,
   "id": "232b33ab",
   "metadata": {},
   "outputs": [],
   "source": [
    "tiara.rename(columns = {\"prediction\":\"tiara\"}, inplace = True)"
   ]
  },
  {
   "cell_type": "code",
   "execution_count": 15,
   "id": "ef88bd89",
   "metadata": {},
   "outputs": [],
   "source": [
    "guteuk = pd.read_csv(\"/fs/ess/PAS0439/MING/cilates_fungi_classifier/stats_visualization/GutEuk_benchmark_full.csv\")"
   ]
  },
  {
   "cell_type": "code",
   "execution_count": 16,
   "id": "4657a2c8",
   "metadata": {},
   "outputs": [],
   "source": [
    "tmp = pd.merge(guteuk, tiara, left_on=\"sequence\", right_on = \"sequence_id\")"
   ]
  },
  {
   "cell_type": "code",
   "execution_count": 17,
   "id": "d082c06d",
   "metadata": {},
   "outputs": [],
   "source": [
    "tiara_benchmark_by_length = pd.merge(tmp, eukrep, left_on=\"sequence\", right_on = \"sequence_id\")"
   ]
  },
  {
   "cell_type": "code",
   "execution_count": 18,
   "id": "191a56d0",
   "metadata": {},
   "outputs": [],
   "source": [
    "tiara_benchmark_by_length.loc[tiara_benchmark_by_length.query('genome_type != \"prokaryotes\"').index, \"genome_type\"] = \"eukaryotes\""
   ]
  },
  {
   "cell_type": "code",
   "execution_count": 19,
   "id": "ddc857ad",
   "metadata": {},
   "outputs": [],
   "source": [
    "def ceiling(x:int):\n",
    "    x = (x // 5000)*5000\n",
    "    return x\n",
    "    \n",
    "tiara_benchmark_by_length.loc[:,\"sequence_length_range\"] = tiara_benchmark_by_length.seq_length.apply(ceiling)"
   ]
  },
  {
   "cell_type": "code",
   "execution_count": 20,
   "id": "3da3c7b5",
   "metadata": {},
   "outputs": [],
   "source": [
    "# sequence_length_range: 0 (3000 < x < 5000)\n",
    "precision = []\n",
    "recall = []\n",
    "sequence_length = []\n",
    "category = []\n",
    "tool = []\n",
    "for cate in [\"prokaryotes\", \"eukaryotes\"]:\n",
    "    for seq_len in [0, 5000, 10000, 15000, 20000, 25000, 30000, 35000, 40000, 45000, 50000]:\n",
    "        tp =  len(tiara_benchmark_by_length.query('genome_type == @cate').query(\"sequence_length_range == @seq_len\").query('tiara == @cate'))\n",
    "        fp = len(tiara_benchmark_by_length.query('genome_type != @cate').query(\"sequence_length_range == @seq_len\").query('tiara == @cate'))\n",
    "        fn = len(tiara_benchmark_by_length.query('genome_type == @cate').query(\"sequence_length_range == @seq_len\").query('tiara != @cate'))\n",
    "        if fn + fp + tp == 0:\n",
    "            continue\n",
    "        else:\n",
    "            preci = tp/ (tp + fp)\n",
    "            recal = tp/ (tp + fn)\n",
    "            category.append(cate)\n",
    "            sequence_length.append(seq_len)\n",
    "            precision.append(preci)\n",
    "            recall.append(recal)\n",
    "            tool.append(\"Tiara\")\n",
    "        \n",
    "\n",
    "for cate in [\"prokaryotes\", \"eukaryotes\"]:\n",
    "    for seq_len in [0, 5000, 10000, 15000, 20000, 25000, 30000, 35000, 40000, 45000, 50000]:\n",
    "        tp =  len(tiara_benchmark_by_length.query('genome_type == @cate').query(\"sequence_length_range == @seq_len\").query('eukrep == @cate'))\n",
    "        fp = len(tiara_benchmark_by_length.query('genome_type != @cate').query(\"sequence_length_range == @seq_len\").query('eukrep == @cate'))\n",
    "        fn = len(tiara_benchmark_by_length.query('genome_type == @cate').query(\"sequence_length_range == @seq_len\").query('eukrep != @cate'))\n",
    "        if fn + fp + tp == 0:\n",
    "            continue\n",
    "        else:\n",
    "            preci = tp/ (tp + fp)\n",
    "            recal = tp/ (tp + fn)\n",
    "            category.append(cate)\n",
    "            sequence_length.append(seq_len)\n",
    "            precision.append(preci)\n",
    "            recall.append(recal)\n",
    "            tool.append(\"EukRep\")\n",
    "        "
   ]
  },
  {
   "cell_type": "code",
   "execution_count": 21,
   "id": "bd5bb085",
   "metadata": {},
   "outputs": [],
   "source": [
    "tiara_eukrep_preci_recall_by_len = pd.DataFrame.from_dict({\"category\":category, \"sequence_length\":sequence_length, \"precision\":precision, \"recall\":recall, \"tool\": tool})\n",
    "tiara_eukrep_preci_recall_by_len.to_csv(\"/fs/ess/PAS0439/MING/cilates_fungi_classifier/stats_visualization/tiara_eukrep_preci_recall_by_len.csv\", index = None)"
   ]
  },
  {
   "cell_type": "code",
   "execution_count": null,
   "id": "56b5050e",
   "metadata": {},
   "outputs": [],
   "source": []
  }
 ],
 "metadata": {
  "kernelspec": {
   "display_name": "MYENV [/fs/ess/PAS0439/MING/conda/MYENV]",
   "language": "python",
   "name": "conda_myenv"
  },
  "language_info": {
   "codemirror_mode": {
    "name": "ipython",
    "version": 3
   },
   "file_extension": ".py",
   "mimetype": "text/x-python",
   "name": "python",
   "nbconvert_exporter": "python",
   "pygments_lexer": "ipython3",
   "version": "3.10.9"
  }
 },
 "nbformat": 4,
 "nbformat_minor": 5
}
