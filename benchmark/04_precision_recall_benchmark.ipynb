{
 "cells": [
  {
   "cell_type": "code",
   "execution_count": 1,
   "id": "146fb00a",
   "metadata": {},
   "outputs": [],
   "source": [
    "import os\n",
    "import pandas as pd\n",
    "from Bio import SeqIO\n",
    "import sys"
   ]
  },
  {
   "cell_type": "code",
   "execution_count": 2,
   "id": "e65f255c",
   "metadata": {},
   "outputs": [],
   "source": [
    "sys.path.append('../two_stages_classifier/training/')\n",
    "import utils\n",
    "from utils import precision_recall"
   ]
  },
  {
   "cell_type": "code",
   "execution_count": 3,
   "id": "470b82c8",
   "metadata": {},
   "outputs": [],
   "source": [
    "os.chdir(\"/fs/ess/PAS0439/MING/cilates_fungi_classifier/outputs/downstream_analysis/benchmark/\")"
   ]
  },
  {
   "cell_type": "code",
   "execution_count": 4,
   "id": "ba10ef46",
   "metadata": {},
   "outputs": [],
   "source": [
    "seqorigin = pd.read_csv(\"/fs/ess/PAS0439/MING/cilates_fungi_classifier/testset_seq_origin.csv\")"
   ]
  },
  {
   "cell_type": "code",
   "execution_count": 5,
   "id": "bd8e6587",
   "metadata": {},
   "outputs": [],
   "source": [
    "testing_pro = list(pd.read_csv(\"../../../dataset_proka_benchmark.csv\").id)\n",
    "testing_fungi = list(pd.read_csv(\"../../../dataset_fungi_benchmark.csv\").files)\n",
    "testing_protozoa = list(pd.read_csv(\"../../../dataset_protozoa_benchmark.csv\").id)\n",
    "testing_sags = list(seqorigin.query('category == \"SAGs\"').genome)\n",
    "testing_genomes = testing_pro + testing_fungi + testing_protozoa + testing_sags\n",
    "testing_set = seqorigin[seqorigin.genome.isin(testing_genomes)]"
   ]
  },
  {
   "cell_type": "code",
   "execution_count": 6,
   "id": "10e1d2c4",
   "metadata": {},
   "outputs": [
    {
     "name": "stderr",
     "output_type": "stream",
     "text": [
      "/tmp/slurmtmp.25314419/ipykernel_183268/1188852451.py:1: DtypeWarning: Columns (2) have mixed types. Specify dtype option on import or set low_memory=False.\n",
      "  tiara = pd.read_csv('test_5kb_tiara.txt', sep = \"\\t\")\n"
     ]
    }
   ],
   "source": [
    "tiara = pd.read_csv('test_5kb_tiara.txt', sep = \"\\t\")\n",
    "tiara_pro = list(tiara[tiara.class_fst_stage.isin([\"prokarya\", \"archaea\", \"bacteria\"])].sequence_id)\n",
    "tiara_euk = list(tiara.query(\"class_fst_stage == 'eukarya'\").sequence_id)\n",
    "tiara_unknown = list(set(tiara.sequence_id) - set(tiara_euk) - set(tiara_pro)) # tiara annotation as unknown or organelle \n"
   ]
  },
  {
   "cell_type": "code",
   "execution_count": 7,
   "id": "19c3a16a",
   "metadata": {},
   "outputs": [],
   "source": [
    "eukrep_pro = []\n",
    "eukrep_euk = []\n",
    "records = SeqIO.parse(\"test_eukrep_euk.fa\", \"fasta\") \n",
    "for record in records:\n",
    "    eukrep_euk.append(str(record.id))\n",
    "    \n",
    "records = SeqIO.parse(\"test_eukrep_pro.fa\", \"fasta\") \n",
    "for record in records:\n",
    "    eukrep_pro.append(str(record.id))"
   ]
  },
  {
   "cell_type": "code",
   "execution_count": 8,
   "id": "e741fdcf",
   "metadata": {},
   "outputs": [],
   "source": [
    "tiara_out = {}\n",
    "eukrep_out = {}\n",
    "Y = {}\n",
    "for index, row in testing_set.iterrows():\n",
    "    cate = row[\"category\"]\n",
    "    seq = row['seq']\n",
    "    if cate == \"prokaryotes\":\n",
    "        Y[seq] = 0\n",
    "    else:\n",
    "        Y[seq] = 1\n",
    "        \n",
    "for f in tiara_euk:\n",
    "    tiara_out[f] = 1\n",
    "\n",
    "for f in tiara_pro:\n",
    "    tiara_out[f] = 0\n",
    "    \n",
    "for f in tiara_unknown:\n",
    "    try:\n",
    "        if Y[f] == 0:\n",
    "            tiara_out[f] = 1\n",
    "        elif Y[f] == 1:\n",
    "            tiara_out[f] = 0\n",
    "    except KeyError:\n",
    "        continue\n",
    "        \n",
    "        \n",
    "for f in eukrep_pro:\n",
    "    eukrep_out[f] = 0\n",
    "\n",
    "for f in eukrep_euk:\n",
    "    eukrep_out[f] = 1\n",
    "    \n",
    "    "
   ]
  },
  {
   "cell_type": "code",
   "execution_count": 9,
   "id": "f2d3fd25",
   "metadata": {},
   "outputs": [],
   "source": [
    "tiara_out_df = pd.DataFrame.from_dict(tiara_out, orient = \"index\").rename(columns = {0:\"tiara_out\"})\n",
    "eukrep_out_df = pd.DataFrame.from_dict(eukrep_out, orient = \"index\").rename(columns = {0:\"eukrep_out\"})\n",
    "Y_df = pd.DataFrame.from_dict(Y, orient = \"index\").rename(columns = {0:\"Y\"})"
   ]
  },
  {
   "cell_type": "code",
   "execution_count": 10,
   "id": "79718f82",
   "metadata": {},
   "outputs": [],
   "source": [
    "tmp = pd.merge(tiara_out_df, eukrep_out_df, left_index = True, right_index = True)\n",
    "tmp1 = pd.merge(tmp, Y_df, left_index = True, right_index = True)\n",
    "testing_set_res = pd.merge(testing_set, tmp1, left_on = \"seq\", right_index = True)"
   ]
  },
  {
   "cell_type": "code",
   "execution_count": 11,
   "id": "e092c018",
   "metadata": {},
   "outputs": [
    {
     "data": {
      "text/html": [
       "<div>\n",
       "<style scoped>\n",
       "    .dataframe tbody tr th:only-of-type {\n",
       "        vertical-align: middle;\n",
       "    }\n",
       "\n",
       "    .dataframe tbody tr th {\n",
       "        vertical-align: top;\n",
       "    }\n",
       "\n",
       "    .dataframe thead th {\n",
       "        text-align: right;\n",
       "    }\n",
       "</style>\n",
       "<table border=\"1\" class=\"dataframe\">\n",
       "  <thead>\n",
       "    <tr style=\"text-align: right;\">\n",
       "      <th></th>\n",
       "      <th>genome</th>\n",
       "      <th>seq</th>\n",
       "      <th>category</th>\n",
       "      <th>tiara_out</th>\n",
       "      <th>eukrep_out</th>\n",
       "      <th>Y</th>\n",
       "    </tr>\n",
       "  </thead>\n",
       "  <tbody>\n",
       "    <tr>\n",
       "      <th>0</th>\n",
       "      <td>Diplodinium.dentatum.SAG3</td>\n",
       "      <td>Diplodinium.dentatum.SAG3_5_BT_18068_fragment_1</td>\n",
       "      <td>SAGs</td>\n",
       "      <td>1</td>\n",
       "      <td>1</td>\n",
       "      <td>1</td>\n",
       "    </tr>\n",
       "    <tr>\n",
       "      <th>1</th>\n",
       "      <td>Diplodinium.dentatum.SAG3</td>\n",
       "      <td>Diplodinium.dentatum.SAG3_5_BT_18068_fragment_2</td>\n",
       "      <td>SAGs</td>\n",
       "      <td>0</td>\n",
       "      <td>0</td>\n",
       "      <td>1</td>\n",
       "    </tr>\n",
       "    <tr>\n",
       "      <th>2</th>\n",
       "      <td>Diplodinium.dentatum.SAG3</td>\n",
       "      <td>Diplodinium.dentatum.SAG3_5_BT_18068_fragment_3</td>\n",
       "      <td>SAGs</td>\n",
       "      <td>0</td>\n",
       "      <td>0</td>\n",
       "      <td>1</td>\n",
       "    </tr>\n",
       "    <tr>\n",
       "      <th>3</th>\n",
       "      <td>Diplodinium.dentatum.SAG3</td>\n",
       "      <td>Diplodinium.dentatum.SAG3_5_BT_18068_fragment_4</td>\n",
       "      <td>SAGs</td>\n",
       "      <td>1</td>\n",
       "      <td>0</td>\n",
       "      <td>1</td>\n",
       "    </tr>\n",
       "    <tr>\n",
       "      <th>4</th>\n",
       "      <td>Diplodinium.dentatum.SAG3</td>\n",
       "      <td>Diplodinium.dentatum.SAG3_5_BT_18068_fragment_5</td>\n",
       "      <td>SAGs</td>\n",
       "      <td>1</td>\n",
       "      <td>0</td>\n",
       "      <td>1</td>\n",
       "    </tr>\n",
       "    <tr>\n",
       "      <th>...</th>\n",
       "      <td>...</td>\n",
       "      <td>...</td>\n",
       "      <td>...</td>\n",
       "      <td>...</td>\n",
       "      <td>...</td>\n",
       "      <td>...</td>\n",
       "    </tr>\n",
       "    <tr>\n",
       "      <th>693042</th>\n",
       "      <td>GCA_016125265.1</td>\n",
       "      <td>WGMC01000008.1_fragment_7</td>\n",
       "      <td>prokaryotes</td>\n",
       "      <td>0</td>\n",
       "      <td>0</td>\n",
       "      <td>0</td>\n",
       "    </tr>\n",
       "    <tr>\n",
       "      <th>693043</th>\n",
       "      <td>GCA_016125265.1</td>\n",
       "      <td>WGMC01000008.1_fragment_8</td>\n",
       "      <td>prokaryotes</td>\n",
       "      <td>0</td>\n",
       "      <td>0</td>\n",
       "      <td>0</td>\n",
       "    </tr>\n",
       "    <tr>\n",
       "      <th>693044</th>\n",
       "      <td>GCA_016125265.1</td>\n",
       "      <td>WGMC01000033.1_fragment_1</td>\n",
       "      <td>prokaryotes</td>\n",
       "      <td>0</td>\n",
       "      <td>0</td>\n",
       "      <td>0</td>\n",
       "    </tr>\n",
       "    <tr>\n",
       "      <th>693045</th>\n",
       "      <td>GCA_016125265.1</td>\n",
       "      <td>WGMC01000012.1_fragment_1</td>\n",
       "      <td>prokaryotes</td>\n",
       "      <td>0</td>\n",
       "      <td>0</td>\n",
       "      <td>0</td>\n",
       "    </tr>\n",
       "    <tr>\n",
       "      <th>693046</th>\n",
       "      <td>GCA_016125265.1</td>\n",
       "      <td>WGMC01000012.1_fragment_2</td>\n",
       "      <td>prokaryotes</td>\n",
       "      <td>0</td>\n",
       "      <td>0</td>\n",
       "      <td>0</td>\n",
       "    </tr>\n",
       "  </tbody>\n",
       "</table>\n",
       "<p>605695 rows × 6 columns</p>\n",
       "</div>"
      ],
      "text/plain": [
       "                           genome  \\\n",
       "0       Diplodinium.dentatum.SAG3   \n",
       "1       Diplodinium.dentatum.SAG3   \n",
       "2       Diplodinium.dentatum.SAG3   \n",
       "3       Diplodinium.dentatum.SAG3   \n",
       "4       Diplodinium.dentatum.SAG3   \n",
       "...                           ...   \n",
       "693042            GCA_016125265.1   \n",
       "693043            GCA_016125265.1   \n",
       "693044            GCA_016125265.1   \n",
       "693045            GCA_016125265.1   \n",
       "693046            GCA_016125265.1   \n",
       "\n",
       "                                                    seq     category  \\\n",
       "0       Diplodinium.dentatum.SAG3_5_BT_18068_fragment_1         SAGs   \n",
       "1       Diplodinium.dentatum.SAG3_5_BT_18068_fragment_2         SAGs   \n",
       "2       Diplodinium.dentatum.SAG3_5_BT_18068_fragment_3         SAGs   \n",
       "3       Diplodinium.dentatum.SAG3_5_BT_18068_fragment_4         SAGs   \n",
       "4       Diplodinium.dentatum.SAG3_5_BT_18068_fragment_5         SAGs   \n",
       "...                                                 ...          ...   \n",
       "693042                        WGMC01000008.1_fragment_7  prokaryotes   \n",
       "693043                        WGMC01000008.1_fragment_8  prokaryotes   \n",
       "693044                        WGMC01000033.1_fragment_1  prokaryotes   \n",
       "693045                        WGMC01000012.1_fragment_1  prokaryotes   \n",
       "693046                        WGMC01000012.1_fragment_2  prokaryotes   \n",
       "\n",
       "        tiara_out  eukrep_out  Y  \n",
       "0               1           1  1  \n",
       "1               0           0  1  \n",
       "2               0           0  1  \n",
       "3               1           0  1  \n",
       "4               1           0  1  \n",
       "...           ...         ... ..  \n",
       "693042          0           0  0  \n",
       "693043          0           0  0  \n",
       "693044          0           0  0  \n",
       "693045          0           0  0  \n",
       "693046          0           0  0  \n",
       "\n",
       "[605695 rows x 6 columns]"
      ]
     },
     "execution_count": 11,
     "metadata": {},
     "output_type": "execute_result"
    }
   ],
   "source": [
    "testing_set_res"
   ]
  },
  {
   "cell_type": "code",
   "execution_count": 12,
   "id": "836449f3",
   "metadata": {},
   "outputs": [],
   "source": [
    "testing_set_res.to_csv(\"/fs/ess/PAS0439/MING/cilates_fungi_classifier/testset_res_tiara_eukrep.csv\", index = None)"
   ]
  },
  {
   "cell_type": "code",
   "execution_count": 13,
   "id": "fd6b5f33",
   "metadata": {},
   "outputs": [
    {
     "name": "stdout",
     "output_type": "stream",
     "text": [
      "Class 0: Precision: 86.86%| Recall: 99.18%\n",
      "Class 1: Precision: 99.05%| Recall: 85.08%\n"
     ]
    }
   ],
   "source": [
    "# tiara \n",
    "precision_recall(list(testing_set_res.tiara_out), list(testing_set_res.Y))"
   ]
  },
  {
   "cell_type": "code",
   "execution_count": 14,
   "id": "08cb51b2",
   "metadata": {},
   "outputs": [
    {
     "name": "stdout",
     "output_type": "stream",
     "text": [
      "tiara Class 0 F1: 92.61207052246829\n",
      "tiara Class 1 F1: 91.5350458914897\n"
     ]
    }
   ],
   "source": [
    "print(f'tiara Class 0 F1: {86.86*99.18*2/(86.86 + 99.18)}')\n",
    "print(f'tiara Class 1 F1: {99.05*85.08*2/(85.08 + 99.05)}')"
   ]
  },
  {
   "cell_type": "code",
   "execution_count": 15,
   "id": "0e37a718",
   "metadata": {},
   "outputs": [
    {
     "name": "stdout",
     "output_type": "stream",
     "text": [
      "Class 0: Precision: 88.07%| Recall: 98.25%\n",
      "Class 1: Precision: 98.03%| Recall: 86.77%\n"
     ]
    }
   ],
   "source": [
    "# eukrep\n",
    "precision_recall(list(testing_set_res.eukrep_out), list(testing_set_res.Y))"
   ]
  },
  {
   "cell_type": "code",
   "execution_count": 16,
   "id": "18902442",
   "metadata": {},
   "outputs": [
    {
     "name": "stdout",
     "output_type": "stream",
     "text": [
      "eukrep Class 0 F1: 92.8818967367969\n",
      "eukrep Class 1 F1: 92.05695995670995\n"
     ]
    }
   ],
   "source": [
    "print(f'eukrep Class 0 F1: {88.07*98.25*2/(88.07 + 98.25)}')\n",
    "print(f'eukrep Class 1 F1: {98.03*86.77*2/(86.77 + 98.03)}')"
   ]
  },
  {
   "cell_type": "code",
   "execution_count": 17,
   "id": "3afea5b6",
   "metadata": {},
   "outputs": [],
   "source": [
    "testing_res_guteuk = pd.read_csv(\"/fs/ess/PAS0439/MING/cilates_fungi_classifier/test_res_stage1.csv\")"
   ]
  },
  {
   "cell_type": "code",
   "execution_count": 18,
   "id": "8ac90064",
   "metadata": {},
   "outputs": [],
   "source": [
    "guteuk_out = testing_res_guteuk[testing_res_guteuk.seq.isin(list(testing_set_res.seq))]"
   ]
  },
  {
   "cell_type": "code",
   "execution_count": 19,
   "id": "8b6e41e7",
   "metadata": {},
   "outputs": [
    {
     "name": "stdout",
     "output_type": "stream",
     "text": [
      "Class 0: Precision: 99.34%| Recall: 99.61%\n",
      "Class 1: Precision: 99.61%| Recall: 99.34%\n"
     ]
    }
   ],
   "source": [
    "precision_recall(list(guteuk_out.ensembled_out), list(guteuk_out.Y))"
   ]
  },
  {
   "cell_type": "code",
   "execution_count": 20,
   "id": "b3b8070a",
   "metadata": {},
   "outputs": [
    {
     "name": "stdout",
     "output_type": "stream",
     "text": [
      "guteuk Class 0 F1: 99.47481678813773\n",
      "guteuk Class 1 F1: 99.47481678813773\n"
     ]
    }
   ],
   "source": [
    "print(f'guteuk Class 0 F1: {99.34*99.61*2/(99.61 + 99.34)}')\n",
    "print(f'guteuk Class 1 F1: {99.61*99.34*2/(99.34 + 99.61)}')"
   ]
  },
  {
   "cell_type": "code",
   "execution_count": 21,
   "id": "cfd2fd42",
   "metadata": {},
   "outputs": [],
   "source": [
    "guteuk_out.to_csv(\"/fs/ess/PAS0439/MING/cilates_fungi_classifier/testset_res_guteuk.csv\", index = None)"
   ]
  },
  {
   "cell_type": "code",
   "execution_count": null,
   "id": "74b01efc",
   "metadata": {},
   "outputs": [],
   "source": []
  }
 ],
 "metadata": {
  "kernelspec": {
   "display_name": "pytorch [pytorch]",
   "language": "python",
   "name": "conda_pytorch"
  },
  "language_info": {
   "codemirror_mode": {
    "name": "ipython",
    "version": 3
   },
   "file_extension": ".py",
   "mimetype": "text/x-python",
   "name": "python",
   "nbconvert_exporter": "python",
   "pygments_lexer": "ipython3",
   "version": "3.9.18"
  }
 },
 "nbformat": 4,
 "nbformat_minor": 5
}
