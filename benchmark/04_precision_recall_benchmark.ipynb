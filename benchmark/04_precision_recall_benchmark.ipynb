{
 "cells": [
  {
   "cell_type": "code",
   "execution_count": 1,
   "id": "146fb00a",
   "metadata": {},
   "outputs": [],
   "source": [
    "import os\n",
    "import pandas as pd\n",
    "from Bio import SeqIO\n",
    "import sys"
   ]
  },
  {
   "cell_type": "code",
   "execution_count": 2,
   "id": "e65f255c",
   "metadata": {},
   "outputs": [],
   "source": [
    "sys.path.append('../two_stages_classifier/training/')\n",
    "import utils\n",
    "from utils import precision_recall"
   ]
  },
  {
   "cell_type": "code",
   "execution_count": 3,
   "id": "470b82c8",
   "metadata": {},
   "outputs": [],
   "source": [
    "os.chdir(\"/fs/ess/PAS0439/MING/cilates_fungi_classifier/outputs/downstream_analysis/benchmark/\")"
   ]
  },
  {
   "cell_type": "code",
   "execution_count": 4,
   "id": "ba10ef46",
   "metadata": {},
   "outputs": [],
   "source": [
    "seqorigin = pd.read_csv(\"/fs/ess/PAS0439/MING/cilates_fungi_classifier/testset_seq_origin.csv\")"
   ]
  },
  {
   "cell_type": "code",
   "execution_count": 5,
   "id": "bd8e6587",
   "metadata": {},
   "outputs": [],
   "source": [
    "testing_pro = list(pd.read_csv(\"../../../dataset_proka_benchmark.csv\").id)\n",
    "testing_fungi = list(pd.read_csv(\"../../../dataset_fungi_benchmark.csv\").files)\n",
    "testing_protozoa = list(pd.read_csv(\"../../../dataset_protozoa_benchmark.csv\").id)\n",
    "testing_sags = list(seqorigin.query('category == \"SAGs\"').genome)\n",
    "testing_genomes = testing_pro + testing_fungi + testing_protozoa + testing_sags\n",
    "testing_set = seqorigin[seqorigin.genome.isin(testing_genomes)]"
   ]
  },
  {
   "cell_type": "code",
   "execution_count": 6,
   "id": "10e1d2c4",
   "metadata": {},
   "outputs": [
    {
     "name": "stderr",
     "output_type": "stream",
     "text": [
      "/tmp/slurmtmp.25891419/ipykernel_91451/1188852451.py:1: DtypeWarning: Columns (2) have mixed types. Specify dtype option on import or set low_memory=False.\n",
      "  tiara = pd.read_csv('test_5kb_tiara.txt', sep = \"\\t\")\n"
     ]
    }
   ],
   "source": [
    "tiara = pd.read_csv('test_5kb_tiara.txt', sep = \"\\t\")\n",
    "tiara_pro = list(tiara[tiara.class_fst_stage.isin([\"prokarya\", \"archaea\", \"bacteria\"])].sequence_id)\n",
    "tiara_euk = list(tiara.query(\"class_fst_stage == 'eukarya'\").sequence_id)\n",
    "tiara_unknown = list(set(tiara.sequence_id) - set(tiara_euk) - set(tiara_pro)) # tiara annotation as unknown or organelle \n"
   ]
  },
  {
   "cell_type": "code",
   "execution_count": 7,
   "id": "19c3a16a",
   "metadata": {},
   "outputs": [],
   "source": [
    "eukrep_pro = []\n",
    "eukrep_euk = []\n",
    "records = SeqIO.parse(\"test_eukrep_euk.fa\", \"fasta\") \n",
    "for record in records:\n",
    "    eukrep_euk.append(str(record.id))\n",
    "    \n",
    "records = SeqIO.parse(\"test_eukrep_pro.fa\", \"fasta\") \n",
    "for record in records:\n",
    "    eukrep_pro.append(str(record.id))"
   ]
  },
  {
   "cell_type": "code",
   "execution_count": 8,
   "id": "e741fdcf",
   "metadata": {},
   "outputs": [],
   "source": [
    "tiara_out = {}\n",
    "eukrep_out = {}\n",
    "Y = {}\n",
    "for index, row in testing_set.iterrows():\n",
    "    cate = row[\"category\"]\n",
    "    seq = row['seq']\n",
    "    if cate == \"prokaryotes\":\n",
    "        Y[seq] = 0\n",
    "    else:\n",
    "        Y[seq] = 1\n",
    "        \n",
    "for f in tiara_euk:\n",
    "    tiara_out[f] = 1\n",
    "\n",
    "for f in tiara_pro:\n",
    "    tiara_out[f] = 0\n",
    "    \n",
    "for f in tiara_unknown:\n",
    "    try:\n",
    "        if Y[f] == 0:\n",
    "            tiara_out[f] = 1\n",
    "        elif Y[f] == 1:\n",
    "            tiara_out[f] = 0\n",
    "    except KeyError:\n",
    "        continue\n",
    "        \n",
    "        \n",
    "for f in eukrep_pro:\n",
    "    eukrep_out[f] = 0\n",
    "\n",
    "for f in eukrep_euk:\n",
    "    eukrep_out[f] = 1\n",
    "    \n",
    "    "
   ]
  },
  {
   "cell_type": "code",
   "execution_count": 9,
   "id": "f2d3fd25",
   "metadata": {},
   "outputs": [],
   "source": [
    "tiara_out_df = pd.DataFrame.from_dict(tiara_out, orient = \"index\").rename(columns = {0:\"tiara_out\"})\n",
    "eukrep_out_df = pd.DataFrame.from_dict(eukrep_out, orient = \"index\").rename(columns = {0:\"eukrep_out\"})\n",
    "Y_df = pd.DataFrame.from_dict(Y, orient = \"index\").rename(columns = {0:\"Y\"})"
   ]
  },
  {
   "cell_type": "code",
   "execution_count": 10,
   "id": "79718f82",
   "metadata": {},
   "outputs": [],
   "source": [
    "tmp = pd.merge(tiara_out_df, eukrep_out_df, left_index = True, right_index = True)\n",
    "tmp1 = pd.merge(tmp, Y_df, left_index = True, right_index = True)\n",
    "testing_set_res = pd.merge(testing_set, tmp1, left_on = \"seq\", right_index = True)"
   ]
  },
  {
   "cell_type": "code",
   "execution_count": 11,
   "id": "836449f3",
   "metadata": {},
   "outputs": [],
   "source": [
    "testing_set_res.to_csv(\"/fs/ess/PAS0439/MING/cilates_fungi_classifier/testset_res_tiara_eukrep.csv\", index = None)"
   ]
  },
  {
   "cell_type": "code",
   "execution_count": 12,
   "id": "fd6b5f33",
   "metadata": {},
   "outputs": [
    {
     "name": "stdout",
     "output_type": "stream",
     "text": [
      "Class 0: Precision: 91.13%| Recall: 99.16%\n",
      "Class 1: Precision: 99.08%| Recall: 90.29%\n"
     ]
    }
   ],
   "source": [
    "# tiara \n",
    "precision_recall(list(testing_set_res.tiara_out), list(testing_set_res.Y))"
   ]
  },
  {
   "cell_type": "code",
   "execution_count": 13,
   "id": "08cb51b2",
   "metadata": {},
   "outputs": [
    {
     "name": "stdout",
     "output_type": "stream",
     "text": [
      "tiara Class 0 F1: 92.61207052246829\n",
      "tiara Class 1 F1: 91.5350458914897\n"
     ]
    }
   ],
   "source": [
    "print(f'tiara Class 0 F1: {86.86*99.18*2/(86.86 + 99.18)}')\n",
    "print(f'tiara Class 1 F1: {99.05*85.08*2/(85.08 + 99.05)}')"
   ]
  },
  {
   "cell_type": "code",
   "execution_count": 14,
   "id": "0e37a718",
   "metadata": {},
   "outputs": [
    {
     "name": "stdout",
     "output_type": "stream",
     "text": [
      "Class 0: Precision: 87.88%| Recall: 98.24%\n",
      "Class 1: Precision: 97.99%| Recall: 86.37%\n"
     ]
    }
   ],
   "source": [
    "# eukrep\n",
    "precision_recall(list(testing_set_res.eukrep_out), list(testing_set_res.Y))"
   ]
  },
  {
   "cell_type": "code",
   "execution_count": 15,
   "id": "18902442",
   "metadata": {},
   "outputs": [
    {
     "name": "stdout",
     "output_type": "stream",
     "text": [
      "eukrep Class 0 F1: 92.8818967367969\n",
      "eukrep Class 1 F1: 92.05695995670995\n"
     ]
    }
   ],
   "source": [
    "print(f'eukrep Class 0 F1: {88.07*98.25*2/(88.07 + 98.25)}')\n",
    "print(f'eukrep Class 1 F1: {98.03*86.77*2/(86.77 + 98.03)}')"
   ]
  },
  {
   "cell_type": "code",
   "execution_count": 16,
   "id": "3afea5b6",
   "metadata": {},
   "outputs": [],
   "source": [
    "testing_res_guteuk = pd.read_csv(\"/fs/ess/PAS0439/MING/cilates_fungi_classifier/test_res_stage1.csv\")"
   ]
  },
  {
   "cell_type": "code",
   "execution_count": 17,
   "id": "8ac90064",
   "metadata": {},
   "outputs": [],
   "source": [
    "guteuk_out = testing_res_guteuk[testing_res_guteuk.seq.isin(list(testing_set_res.seq))]"
   ]
  },
  {
   "cell_type": "code",
   "execution_count": 18,
   "id": "8b6e41e7",
   "metadata": {},
   "outputs": [
    {
     "name": "stdout",
     "output_type": "stream",
     "text": [
      "Class 0: Precision: 97.71%| Recall: 99.51%\n",
      "Class 1: Precision: 99.50%| Recall: 97.65%\n"
     ]
    }
   ],
   "source": [
    "precision_recall(list(guteuk_out.ensembled_out), list(guteuk_out.Y))"
   ]
  },
  {
   "cell_type": "code",
   "execution_count": 19,
   "id": "b3b8070a",
   "metadata": {},
   "outputs": [
    {
     "name": "stdout",
     "output_type": "stream",
     "text": [
      "guteuk Class 0 F1: 99.47481678813773\n",
      "guteuk Class 1 F1: 99.47481678813773\n"
     ]
    }
   ],
   "source": [
    "print(f'guteuk Class 0 F1: {99.34*99.61*2/(99.61 + 99.34)}')\n",
    "print(f'guteuk Class 1 F1: {99.61*99.34*2/(99.34 + 99.61)}')"
   ]
  },
  {
   "cell_type": "code",
   "execution_count": 20,
   "id": "cfd2fd42",
   "metadata": {},
   "outputs": [],
   "source": [
    "guteuk_out.to_csv(\"/fs/ess/PAS0439/MING/cilates_fungi_classifier/testset_res_guteuk.csv\", index = None)"
   ]
  },
  {
   "cell_type": "code",
   "execution_count": null,
   "id": "74b01efc",
   "metadata": {},
   "outputs": [],
   "source": []
  }
 ],
 "metadata": {
  "kernelspec": {
   "display_name": "pytorch [pytorch]",
   "language": "python",
   "name": "conda_pytorch"
  },
  "language_info": {
   "codemirror_mode": {
    "name": "ipython",
    "version": 3
   },
   "file_extension": ".py",
   "mimetype": "text/x-python",
   "name": "python",
   "nbconvert_exporter": "python",
   "pygments_lexer": "ipython3",
   "version": "3.9.18"
  }
 },
 "nbformat": 4,
 "nbformat_minor": 5
}
