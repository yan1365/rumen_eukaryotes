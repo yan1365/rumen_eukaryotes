{
 "cells": [
  {
   "cell_type": "markdown",
   "id": "2921908d",
   "metadata": {},
   "source": [
    "## chop contig greater than 50000bp when benchmark and record seq origin"
   ]
  },
  {
   "cell_type": "code",
   "execution_count": 1,
   "id": "6e0ed2fd",
   "metadata": {},
   "outputs": [],
   "source": [
    "import os\n",
    "from Bio import SeqIO\n",
    "import glob\n",
    "from Bio.Seq import Seq\n",
    "from Bio.SeqRecord import SeqRecord\n",
    "from Bio import SeqIO\n",
    "import pandas as pd"
   ]
  },
  {
   "cell_type": "code",
   "execution_count": 2,
   "id": "a7b67735",
   "metadata": {},
   "outputs": [],
   "source": [
    "os.chdir(\"/fs/scratch/PAS0439/Ming/databases/gut_eukaryotes_classifier/test/\")"
   ]
  },
  {
   "cell_type": "code",
   "execution_count": 3,
   "id": "ee8dd874",
   "metadata": {},
   "outputs": [],
   "source": [
    "def chopped_seq(seq_len):\n",
    "    \n",
    "    # List of choices\n",
    "    splited = [3000, 4000, 5000, 8000, 10000, 20000]\n",
    "    number_chunks = seq_len//50000\n",
    "    remainder = seq_len%50000\n",
    "    output_seq_length = []\n",
    "    for f in range(number_chunks):\n",
    "        output_seq_length += splited\n",
    "    if remainder > 3000:\n",
    "        output_seq_length.append(remainder)\n",
    "        \n",
    "    return output_seq_length\n",
    "\n",
    "        \n",
    "        "
   ]
  },
  {
   "cell_type": "code",
   "execution_count": 4,
   "id": "e9916b09",
   "metadata": {},
   "outputs": [],
   "source": [
    "seq_list = []\n",
    "genome_list = []\n",
    "genome_type = []"
   ]
  },
  {
   "cell_type": "code",
   "execution_count": 5,
   "id": "b488db62",
   "metadata": {},
   "outputs": [],
   "source": [
    "proka = glob.glob(\"proka/*\")\n",
    "with open(\"proka.fasta\", \"w\") as outfile:\n",
    "    for f in proka:\n",
    "        records = SeqIO.parse(f, \"fasta\")\n",
    "        for record in records:\n",
    "            if len(record.seq) < 3000:\n",
    "                pass\n",
    "            elif len(record.seq) < 50000:\n",
    "                seq_list.append(record.id)\n",
    "                genome_list.append(f.split(\"/\")[1])\n",
    "                genome_type.append(\"prokaryotes\")\n",
    "                SeqIO.write(record, outfile, 'fasta')\n",
    "            else:\n",
    "                output_seq_length = chopped_seq(len(str(record.seq)))\n",
    "                index = 0\n",
    "                seq_length = 0\n",
    "                record_seq = str(record.seq)\n",
    "                for i in output_seq_length:\n",
    "                    new_seq = Seq(record_seq[:i])\n",
    "                    new_id = f\"{record.id}_{index+1}\"\n",
    "                    new_record =  SeqRecord(new_seq, id=new_id)\n",
    "                    SeqIO.write(new_record, outfile, \"fasta\")\n",
    "                    seq_list.append(new_id)\n",
    "                    genome_list.append(f.split(\"/\")[1])\n",
    "                    genome_type.append(\"prokaryotes\")\n",
    "                    record_seq = record_seq[i:]\n",
    "                    index += 1\n",
    "                      \n",
    "                    "
   ]
  },
  {
   "cell_type": "code",
   "execution_count": 6,
   "id": "613c1b0c",
   "metadata": {},
   "outputs": [],
   "source": [
    "fungi = glob.glob(\"fungi/*\")\n",
    "with open(\"fungi.fasta\", \"w\") as outfile:\n",
    "    for f in fungi:\n",
    "        records = SeqIO.parse(f, \"fasta\")\n",
    "        for record in records:\n",
    "            if len(record.seq) < 3000:\n",
    "                pass\n",
    "            elif len(record.seq) < 50000:\n",
    "                seq_list.append(record.id)\n",
    "                genome_list.append(f.split(\"/\")[1])\n",
    "                genome_type.append(\"fungi\")\n",
    "                SeqIO.write(record, outfile, 'fasta')\n",
    "            else:\n",
    "                output_seq_length = chopped_seq(len(str(record.seq)))\n",
    "                index = 0\n",
    "                seq_length = 0\n",
    "                record_seq = str(record.seq)\n",
    "                for i in output_seq_length:\n",
    "                    new_seq = Seq(record_seq[:i])\n",
    "                    new_id = f\"{record.id}_{index+1}\"\n",
    "                    new_record =  SeqRecord(new_seq, id=new_id)\n",
    "                    SeqIO.write(new_record, outfile, \"fasta\")\n",
    "                    seq_list.append(new_id)\n",
    "                    genome_list.append(f.split(\"/\")[1])\n",
    "                    genome_type.append(\"fungi\")\n",
    "                    record_seq = record_seq[i:]\n",
    "                    index += 1\n",
    "                    "
   ]
  },
  {
   "cell_type": "code",
   "execution_count": 7,
   "id": "1a8b6168",
   "metadata": {},
   "outputs": [],
   "source": [
    "protozoa = glob.glob(\"protozoa/*\")\n",
    "with open(\"protozoa.fasta\", \"w\") as outfile:\n",
    "    for f in protozoa:\n",
    "        records = SeqIO.parse(f, \"fasta\")\n",
    "        for record in records:\n",
    "            if len(record.seq) < 3000:\n",
    "                pass\n",
    "            elif len(record.seq) < 50000:\n",
    "                seq_list.append(record.id)\n",
    "                genome_list.append(f.split(\"/\")[1])\n",
    "                genome_type.append(\"protozoa\")\n",
    "                SeqIO.write(record, outfile, 'fasta')\n",
    "            else:\n",
    "                output_seq_length = chopped_seq(len(str(record.seq)))\n",
    "                index = 0\n",
    "                seq_length = 0\n",
    "                record_seq = str(record.seq)\n",
    "                for i in output_seq_length:\n",
    "                    new_seq = Seq(record_seq[:i])\n",
    "                    new_id = f\"{record.id}_{index+1}\"\n",
    "                    new_record =  SeqRecord(new_seq, id=new_id)\n",
    "                    SeqIO.write(new_record, outfile, \"fasta\")\n",
    "                    seq_list.append(new_id)\n",
    "                    genome_list.append(f.split(\"/\")[1])\n",
    "                    genome_type.append(\"protozoa\")\n",
    "                    record_seq = record_seq[i:]\n",
    "                    index += 1\n",
    "                      \n",
    "                    "
   ]
  },
  {
   "cell_type": "code",
   "execution_count": 8,
   "id": "5dba540f",
   "metadata": {},
   "outputs": [],
   "source": [
    "with open(\"sags_test_chopped.fasta\", \"w\") as outfile:\n",
    "\n",
    "    records = SeqIO.parse(\"sags_test.fa\", \"fasta\")\n",
    "    for record in records:\n",
    "        if len(record.seq) < 3000:\n",
    "            pass\n",
    "        elif len(record.seq) < 50000:\n",
    "            seq_list.append(record.id)\n",
    "            genome_list.append(str(record.id).split(\"_\")[0])\n",
    "            genome_type.append(\"protozoa\")\n",
    "            SeqIO.write(record, outfile, 'fasta')\n",
    "        else:\n",
    "            output_seq_length = chopped_seq(len(str(record.seq)))\n",
    "            index = 0\n",
    "            seq_length = 0\n",
    "            record_seq = str(record.seq)\n",
    "            for i in output_seq_length:\n",
    "                new_seq = Seq(record_seq[:i])\n",
    "                new_id = f\"{record.id}_{index+1}\"\n",
    "                new_record =  SeqRecord(new_seq, id=new_id)\n",
    "                SeqIO.write(new_record, outfile, \"fasta\")\n",
    "                seq_list.append(new_id)\n",
    "                genome_list.append(new_id.split(\"_\")[0])\n",
    "                genome_type.append(\"protozoa\")\n",
    "                record_seq = record_seq[i:]\n",
    "                index += 1"
   ]
  },
  {
   "cell_type": "code",
   "execution_count": 9,
   "id": "379dacfa",
   "metadata": {},
   "outputs": [],
   "source": [
    "# sags = SeqIO.parse(\"sags_test.fa\", \"fasta\")\n",
    "# for record in sags:\n",
    "#     if len(record.seq) >= 3000:\n",
    "#         seq_list.append(str(record.id))\n",
    "#         genome = str(record.id).split(\"_\")[0]\n",
    "#         genome_list.append(genome)\n",
    "#         genome_type.append(\"SAG\")"
   ]
  },
  {
   "cell_type": "code",
   "execution_count": 10,
   "id": "2b1b0dd1",
   "metadata": {},
   "outputs": [],
   "source": [
    "df = pd.DataFrame.from_dict({\"sequence\":seq_list, \"genome\": genome_list, \"genome_type\": genome_type})\n",
    "df.to_csv(\"/fs/ess/PAS0439/MING/cilates_fungi_classifier/testset_seq_origin_chopped.csv\", index = None)"
   ]
  },
  {
   "cell_type": "code",
   "execution_count": null,
   "id": "95161436",
   "metadata": {},
   "outputs": [],
   "source": []
  }
 ],
 "metadata": {
  "kernelspec": {
   "display_name": "MYENV [/fs/ess/PAS0439/MING/conda/MYENV]",
   "language": "python",
   "name": "conda_myenv"
  },
  "language_info": {
   "codemirror_mode": {
    "name": "ipython",
    "version": 3
   },
   "file_extension": ".py",
   "mimetype": "text/x-python",
   "name": "python",
   "nbconvert_exporter": "python",
   "pygments_lexer": "ipython3",
   "version": "3.10.9"
  }
 },
 "nbformat": 4,
 "nbformat_minor": 5
}
